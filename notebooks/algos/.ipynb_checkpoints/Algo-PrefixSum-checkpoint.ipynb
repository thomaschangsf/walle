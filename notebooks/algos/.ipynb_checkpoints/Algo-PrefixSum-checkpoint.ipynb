{
 "cells": [
  {
   "cell_type": "markdown",
   "id": "a2adb61e-7f86-4e17-af8f-f6d1c433d351",
   "metadata": {},
   "source": [
    "# Background\n",
    "- Prefix sum/product maintains a sum/product UPT to the each index of array\n",
    "- Example\n",
    "    * Cost =       [10, 15, 20, 10, 5]\n",
    "    * prefix_sum = [10, 25, 45, 55, 60] "
   ]
  },
  {
   "cell_type": "code",
   "execution_count": 3,
   "id": "eabf812d-cafa-4371-9f83-9aeca060ae8b",
   "metadata": {},
   "outputs": [],
   "source": [
    "def calc_prefix_sum(a):\n",
    "    if not a:\n",
    "        return []\n",
    "        \n",
    "    prefix_sum = [a[0]]\n",
    "    for i in range(1, len(a)):\n",
    "        prefix_sum.append(prefix_sum[-1] + a[i])"
   ]
  },
  {
   "cell_type": "code",
   "execution_count": null,
   "id": "862657a6-17ae-40ee-8add-7624e6bb1991",
   "metadata": {},
   "outputs": [],
   "source": []
  },
  {
   "cell_type": "markdown",
   "id": "958df385-7bf7-4a83-9e9c-ac13f67749e6",
   "metadata": {},
   "source": [
    "# Sum Between Range\n",
    "- Given an array, write a function that returns the sum of values between 2 index\n"
   ]
  },
  {
   "cell_type": "code",
   "execution_count": 5,
   "id": "4c3bb3ae-4782-4200-9b00-574f63dd6434",
   "metadata": {},
   "outputs": [],
   "source": [
    "def sum_bn_range(nums, i, j):\n",
    "    if not nums:\n",
    "        return 0\n",
    "        \n",
    "    prefix_sum = [nums[0]]\n",
    "    for i in range(1, len(nums)):\n",
    "        prefix_sum.append( prefix_sum[-1] + a[i] )\n",
    "\n",
    "    if i == 0:\n",
    "        return prefix_sum[j]\n",
    "        \n",
    "    return prefix_sum[j] - prefix_sum[i]\n",
    "    "
   ]
  },
  {
   "cell_type": "code",
   "execution_count": null,
   "id": "42b4220f-5265-46f2-8301-ab2485eb6b1d",
   "metadata": {},
   "outputs": [],
   "source": []
  },
  {
   "cell_type": "markdown",
   "id": "f3ff80b6-77da-4e6f-99cf-d49ad2074800",
   "metadata": {},
   "source": [
    "# K Sum Subarrays\n",
    "- Find the number of subarrays in an array that sums up to K\n",
    "    * subarray --> means contiguous\n",
    "- Example: [1,2,-1,1,1,2], k = 3\n",
    "    * Sol: 3 because [ [1,2], [1,2,-2], [1,2]]\n",
    "\n"
   ]
  },
  {
   "cell_type": "code",
   "execution_count": null,
   "id": "9caa3fc1-58cc-4f74-b560-fa0c5869627e",
   "metadata": {},
   "outputs": [],
   "source": [
    "# Run time: O(n^2)\n",
    "def k_sum_subarrays(nums, k):\n",
    "    count = 0\n",
    "    if not nums:\n",
    "        return count\n",
    "\n",
    "    prefix_sum = nums[0]\n",
    "    for i in range(1, len(nums)):\n",
    "        prefix_sum.append( nums[i] + prefix_sum[-1])\n",
    "\n",
    "    n = len(nums)\n",
    "    for j in range(1, n+1): #looking backwrd !!!\n",
    "        for i in range(1, j+1):\n",
    "            if prefix_sum[j] - prefix_sum[i] == k:\n",
    "                count += 1\n",
    "    \n",
    "    return count"
   ]
  },
  {
   "cell_type": "code",
   "execution_count": null,
   "id": "bd12b410-9f8e-4db6-b3b0-04a155b867b1",
   "metadata": {},
   "outputs": [],
   "source": [
    "# RunTime: O(n)\n",
    "def k_sum_subarrays(nums, k):\n",
    "    count = 0\n",
    "    prefix_sum = 0\n",
    "    prefix_sum_counts = {0: 1}\n",
    "\n",
    "    for n in nums:\n",
    "        prefix_sum += n\n",
    "\n",
    "        # means there subarray between that previous point and the current position sums (index of n in nums) to k\n",
    "        # previous points refers to the index of n where the cumulate sum was prefix_sum-k; previous_point is not included in the subarray\n",
    "        # See the example below for a walk through\n",
    "        if prefix_sum - k in prefix_sum_counts:\n",
    "            count += prefix_sum_counts[prefix_sum -k]\n",
    "\n",
    "        # update prefix_sum with the current prefix\n",
    "        if prefix_sum in prefix_sum_counts:\n",
    "            prefix_sum_counts[prefix_sum] += 1\n",
    "        else:\n",
    "            prefix_sum_counts[prefix_sum] = 1\n",
    "\n",
    "    return count"
   ]
  },
  {
   "cell_type": "markdown",
   "id": "45bab863-cd22-4e80-8f5f-51a1ba471527",
   "metadata": {},
   "source": [
    "```\n",
    "Idx\tnum\tprefix_sum\tprefix_sum - k\tFound?\tSubarray(s)\tprefix_sum_counts\tCount\n",
    "0\t3\t3\t        -4\t            No\t\t            {0: 1, 3: 1}\t0\n",
    "1\t4\t7\t        0\t            Yes     [3, 4]\t    {0: 1, 3: 1, 7: 1}\t1\n",
    "2\t7\t14\t        7\t            Yes \t[7]\t        {0: 1, 3: 1, 7: 1, 14: 1}\t2\n",
    "3\t2\t16\t        9\t            No\t    None\t    {0: 1, 3: 1, 7: 1, 14: 1, 16: 1}\t2\n",
    "4\t-3\t13\t        6\t            No\t    None\t    {0: 1, 3: 1, 7: 1, 14: 1, 16: 1, 13: 1}\t2\n",
    "5\t1\t14\t        7\t            Yes     [7,2,-3,1]\t{0: 1, 3: 1, 7: 1, 14: 2, 16: 1, 13: 1}\t3\n",
    "6\t4\t18\t        11\t            No\t    None\t    {0: 1, 3: 1, 7: 1, 14: 2, 16: 1, 13: 1, 18: 1}\t3\n",
    "7\t2\t20\t        13\t            Yes \t[1, 4, 2]\t{0: 1, 3: 1, 7: 1, 14: 2, 16: 1, 13: 1, 18: 1, 20: 1}\n",
    "```"
   ]
  },
  {
   "cell_type": "code",
   "execution_count": null,
   "id": "05ef1047-c101-4092-93f1-9b2120cdbe84",
   "metadata": {},
   "outputs": [],
   "source": []
  }
 ],
 "metadata": {
  "kernelspec": {
   "display_name": "Python 3 (ipykernel)",
   "language": "python",
   "name": "python3"
  },
  "language_info": {
   "codemirror_mode": {
    "name": "ipython",
    "version": 3
   },
   "file_extension": ".py",
   "mimetype": "text/x-python",
   "name": "python",
   "nbconvert_exporter": "python",
   "pygments_lexer": "ipython3",
   "version": "3.11.9"
  }
 },
 "nbformat": 4,
 "nbformat_minor": 5
}
