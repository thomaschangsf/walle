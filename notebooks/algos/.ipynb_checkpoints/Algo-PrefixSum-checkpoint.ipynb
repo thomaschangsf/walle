{
 "cells": [
  {
   "cell_type": "markdown",
   "id": "a2adb61e-7f86-4e17-af8f-f6d1c433d351",
   "metadata": {},
   "source": [
    "# Background\n",
    "- Prefix sum/product maintains a sum/product UPT to the each index of array\n",
    "- Example\n",
    "    * Cost =       [10, 15, 20, 10, 5]\n",
    "    * prefix_sum = [10, 25, 45, 55, 60] "
   ]
  },
  {
   "cell_type": "code",
   "execution_count": 3,
   "id": "eabf812d-cafa-4371-9f83-9aeca060ae8b",
   "metadata": {},
   "outputs": [],
   "source": [
    "def calc_prefix_sum(a):\n",
    "    if not a:\n",
    "        return []\n",
    "        \n",
    "    prefix_sum = [a[0]]\n",
    "    for i in range(1, len(a)):\n",
    "        prefix_sum.append(prefix_sum[-1] + a[i])"
   ]
  },
  {
   "cell_type": "code",
   "execution_count": null,
   "id": "862657a6-17ae-40ee-8add-7624e6bb1991",
   "metadata": {},
   "outputs": [],
   "source": []
  },
  {
   "cell_type": "markdown",
   "id": "958df385-7bf7-4a83-9e9c-ac13f67749e6",
   "metadata": {},
   "source": [
    "# Sum Between Range\n",
    "- Given an array, write a function that returns the sum of values between 2 index\n"
   ]
  },
  {
   "cell_type": "code",
   "execution_count": 5,
   "id": "4c3bb3ae-4782-4200-9b00-574f63dd6434",
   "metadata": {},
   "outputs": [],
   "source": [
    "def sum_bn_range(nums, i, j):\n",
    "    if not nums:\n",
    "        return 0\n",
    "        \n",
    "    prefix_sum = [nums[0]]\n",
    "    for i in range(1, len(nums)):\n",
    "        prefix_sum.append( prefix_sum[-1] + a[i] )\n",
    "\n",
    "    if i == 0:\n",
    "        return prefix_sum[j]\n",
    "        \n",
    "    return prefix_sum[j] - prefix_sum[i]\n",
    "    "
   ]
  },
  {
   "cell_type": "code",
   "execution_count": null,
   "id": "42b4220f-5265-46f2-8301-ab2485eb6b1d",
   "metadata": {},
   "outputs": [],
   "source": []
  },
  {
   "cell_type": "markdown",
   "id": "f3ff80b6-77da-4e6f-99cf-d49ad2074800",
   "metadata": {},
   "source": [
    "# K Sum Subarrays\n",
    "- Find the number of subarrays in an array that sums up to K\n",
    "    * subarray --> means contiguous\n",
    "- Example: [1,2,-1,1,1,2], k = 3\n",
    "    * Sol: 3 because [ [1,2], [1,2,-2], [1,2]]\n",
    "\n"
   ]
  },
  {
   "cell_type": "code",
   "execution_count": null,
   "id": "9caa3fc1-58cc-4f74-b560-fa0c5869627e",
   "metadata": {},
   "outputs": [],
   "source": [
    "def k_sum_subarrays(nums, k):\n",
    "    count = 0\n",
    "    if not nums:\n",
    "        return count\n",
    "\n",
    "    prefix_sum = nums[0]\n",
    "    for i in range(1, len(nums)):\n",
    "        prefix_sum.append( nums[i] + prefix_sum[-1])\n",
    "\n",
    "    "
   ]
  }
 ],
 "metadata": {
  "kernelspec": {
   "display_name": "Python 3 (ipykernel)",
   "language": "python",
   "name": "python3"
  },
  "language_info": {
   "codemirror_mode": {
    "name": "ipython",
    "version": 3
   },
   "file_extension": ".py",
   "mimetype": "text/x-python",
   "name": "python",
   "nbconvert_exporter": "python",
   "pygments_lexer": "ipython3",
   "version": "3.11.9"
  }
 },
 "nbformat": 4,
 "nbformat_minor": 5
}
