{
 "cells": [
  {
   "cell_type": "markdown",
   "id": "ff0697b1-6781-4d79-9748-d0e202c8717e",
   "metadata": {},
   "source": [
    "# 1 Background\n",
    "- p47\n",
    "- Benefits:\n",
    "    * Dynamic sizing: good for frequence insertion and deletions, compared to arrays which rquires entire shifts\n",
    "    * O(n) performance for most operation\n",
    "- Con:\n",
    "    * No random access; O(n) lookup time\n",
    "- Type of Problems\n",
    "    * Traversals\n",
    "    * Doubly Linked list\n",
    "    * Restructuring\n",
    "- **Visualize Pointer Manipulations**\n",
    "    * Draw pointers as arrows between nodes can be quite helpful. Observe how the arrows changes."
   ]
  },
  {
   "cell_type": "markdown",
   "id": "e8769646-ee56-4031-803c-a65f1cbf2711",
   "metadata": {},
   "source": [
    "### Linked List Reversal (In place)\n",
    "- 3 pointers\n",
    "    * prev_node: from previous iteration\n",
    "    * curr_node\n",
    "    * next_node\n",
    "``` python\n",
    "\n",
    "Given:\n",
    "          prev_node   curr_node  \n",
    "            |           |  \n",
    "    null <- 1           2   -->    3\n",
    "\n",
    "    next_node = curr_node.next\n",
    "    curr_node.next = prev_node\n",
    "\n",
    "          prev_node   curr_node  next_node\n",
    "            |           |          |\n",
    "    null <- 1   <--     2          3\n",
    "\n",
    "\n",
    "    # Get ready for next iteration\n",
    "    prev_node = curr_node\n",
    "    curr_node = next_node\n",
    "\n",
    "                   prev_node  curr_node\n",
    "            |           |          |\n",
    "    null <- 1   <--     2          3\n",
    "\n",
    "```"
   ]
  },
  {
   "cell_type": "code",
   "execution_count": 6,
   "id": "27afca8c-1027-4e28-83cf-3db60b6efd54",
   "metadata": {},
   "outputs": [],
   "source": [
    "class ListNode:\n",
    "    def __init__(self, val, next):\n",
    "        self.val = val\n",
    "        self.next = next"
   ]
  },
  {
   "cell_type": "code",
   "execution_count": 7,
   "id": "9b04eff3-91af-4dd3-b98b-abee01ab1a42",
   "metadata": {},
   "outputs": [],
   "source": [
    "def reverse_list(head: ListNode) -> ListNode: \n",
    "    curr_node, prev_node = head, None\n",
    "\n",
    "    while curr_node:\n",
    "        next_node = curr_node.next\n",
    "        curr_node.next = prev_node\n",
    "    \n",
    "        prev_node = curr_node\n",
    "        curr_node = next_node\n",
    "    \n",
    "    return prev_node"
   ]
  },
  {
   "cell_type": "markdown",
   "id": "d9b6805b-9ac8-42f0-9703-e0d02108d8a5",
   "metadata": {},
   "source": [
    "# 2 Traversals"
   ]
  },
  {
   "cell_type": "code",
   "execution_count": null,
   "id": "c19b90b1-3cba-42e4-beb7-861647109e3f",
   "metadata": {},
   "outputs": [],
   "source": []
  },
  {
   "cell_type": "code",
   "execution_count": null,
   "id": "f8e56cf1-e10d-4f95-945f-28a7f36acd7f",
   "metadata": {},
   "outputs": [],
   "source": []
  },
  {
   "cell_type": "markdown",
   "id": "2a2d3f90-cf32-424d-a4fb-e416c07240e9",
   "metadata": {},
   "source": [
    "# 3 Double Linked List"
   ]
  },
  {
   "cell_type": "code",
   "execution_count": null,
   "id": "5ed903a5-8433-48bc-96a0-773df9d8aec9",
   "metadata": {},
   "outputs": [],
   "source": []
  },
  {
   "cell_type": "code",
   "execution_count": null,
   "id": "4c3d988a-4bfc-408f-97b1-08ed6af00b1b",
   "metadata": {},
   "outputs": [],
   "source": []
  },
  {
   "cell_type": "markdown",
   "id": "871f4093-c3dc-462e-ac4d-8aa79d4125d9",
   "metadata": {},
   "source": [
    "# 4 Restructuring"
   ]
  },
  {
   "cell_type": "markdown",
   "id": "cec13a19-fdc7-4c59-9c35-4abda37cc172",
   "metadata": {},
   "source": [
    "### Remove Kth last element from a linked list\n",
    "- Return the head of a singly linked list aftr removing the kth node from the end of the list\n",
    "- Ideas:\n",
    "    * Create 2 pointers; leader node is k node ahead of the trailer\n",
    "    * we want to trailer to be the node right before the node we want to delete"
   ]
  },
  {
   "cell_type": "code",
   "execution_count": 8,
   "id": "04f02922-48e5-41f9-83b7-a08702719748",
   "metadata": {},
   "outputs": [],
   "source": [
    "def remove_kth_last_node(head, k):\n",
    "    # Dummy node to handle the case we want to delete the head node\n",
    "    dummy = ListNode(-1)\n",
    "    dummy.next = head\n",
    "    trail = leader = dummy\n",
    "\n",
    "    for _ in range(k):\n",
    "        leader = leader.next\n",
    "        # If k is larger than the length of the inke list, no node needs to be removed\n",
    "        if not leader:\n",
    "            return head\n",
    "\n",
    "    # Move leader to the node right before the node we want to delete\n",
    "    while leader.next:\n",
    "        leader = leader.next\n",
    "        trailer = trailer.next\n",
    "\n",
    "    trailer.next = trailer.next.next\n",
    "\n",
    "    return dummy.next\n"
   ]
  },
  {
   "cell_type": "code",
   "execution_count": null,
   "id": "9bac7547-d22d-45fb-a646-30e54abbdab4",
   "metadata": {},
   "outputs": [],
   "source": []
  }
 ],
 "metadata": {
  "kernelspec": {
   "display_name": "Python 3 (ipykernel)",
   "language": "python",
   "name": "python3"
  },
  "language_info": {
   "codemirror_mode": {
    "name": "ipython",
    "version": 3
   },
   "file_extension": ".py",
   "mimetype": "text/x-python",
   "name": "python",
   "nbconvert_exporter": "python",
   "pygments_lexer": "ipython3",
   "version": "3.11.9"
  }
 },
 "nbformat": 4,
 "nbformat_minor": 5
}
