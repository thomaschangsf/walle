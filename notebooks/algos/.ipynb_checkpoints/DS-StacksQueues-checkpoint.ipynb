{
 "cells": [
  {
   "cell_type": "markdown",
   "id": "07eea764-6304-49ab-84f9-188138a112b8",
   "metadata": {},
   "source": [
    "# 1 Stacks\n",
    "- p127\n",
    "- LIFO Applications\n",
    "    * process inner-most nested structures first, ie (())\n",
    "    * reverse order\n",
    "    * Substitute for recursion\n",
    "    * Monotonic stack: a stack that maintain in a consistent increasing|decreasing order\n",
    "- RT Performance\n",
    "    * O(1) for push, pop, peek, isEmpty"
   ]
  },
  {
   "cell_type": "markdown",
   "id": "372aa6b8-974f-433c-91c6-103e15a9a910",
   "metadata": {},
   "source": [
    "## 1.1 Nested Structure"
   ]
  },
  {
   "cell_type": "markdown",
   "id": "93af3316-3c6c-46bc-bde8-eafd0705b7d0",
   "metadata": {},
   "source": [
    "### Valid Paranthesis Expression\n",
    "- Given an expression: (), {},[], determine if the sequence is valid.  Valid if every openting paranthesis has a corresponding paranthesis\n",
    "- Examples:\n",
    "    * ([]{})  --> True\n",
    "    * ([]{]} --> false\n",
    "- Logic: for every open paranthesis, push on stack.  For every closing parenthesis, the top of the stack has to be the same family."
   ]
  },
  {
   "cell_type": "code",
   "execution_count": 1,
   "id": "70646d2c-670c-4c5c-a19f-ec1e5a5c8749",
   "metadata": {},
   "outputs": [],
   "source": [
    "def valid_parenthesis_expression(s):\n",
    "    map = {'[': ']', '(': ')', '{':'}'}\n",
    "    stack = []\n",
    "    \n",
    "    for e in s:\n",
    "        if e in map:\n",
    "            stack.append(e)\n",
    "        else:\n",
    "            if stack and map[e] == stack[-1]:\n",
    "                stack.pop()\n",
    "            else:\n",
    "                return False\n",
    "    \n",
    "    return not stack\n"
   ]
  },
  {
   "cell_type": "markdown",
   "id": "349a7444-84a2-4ad0-a193-659dc75053fa",
   "metadata": {},
   "source": [
    "### Evaluate Expressions\n",
    "- Given a string of mathematical expression containing integers, parenthesis, addition, and subtraction operators, evaluate and return the expression\n",
    "- Example\n",
    "    * input: s = \"18-(7+(2-4))\"\n",
    "    * output: 13"
   ]
  },
  {
   "cell_type": "code",
   "execution_count": null,
   "id": "7bb0c3eb-e139-4671-b569-9b2715533357",
   "metadata": {},
   "outputs": [],
   "source": []
  },
  {
   "cell_type": "markdown",
   "id": "ae050e51-b29b-4b36-86ce-bf7c0c6d9b35",
   "metadata": {},
   "source": [
    "## 1.2 Monotonic Stack"
   ]
  },
  {
   "cell_type": "markdown",
   "id": "af6600ea-1e07-411e-9813-3af23ab1405b",
   "metadata": {},
   "source": [
    "### Next Largest Number to the Right\n",
    "- Given an integer array, return an output array res where for each value nums[i], res[i] is the first number to the right that is larger than nums[i]. If no larger number exists, set res[i]=-1\n",
    "- Example\n",
    "    * nums = [5,2,4,6,1]\n",
    "    * res = [6,4,5,-1,-1]\n",
    "- Insights:\n",
    "    * stack[i] is the largest number between stack[0:i-1]; it is a monotonic stack\n",
    "    * how to build the stack? Go from right to left\n",
    "    * if nums[i-1] is greater than stack[i], then remove all elements in stack less than nums[i-1]"
   ]
  },
  {
   "cell_type": "code",
   "execution_count": 6,
   "id": "d1092cb6-c567-4a64-92e3-85e3990bc5df",
   "metadata": {},
   "outputs": [],
   "source": [
    "def next_largest_numbers_to_right(nums):\n",
    "    stack = []\n",
    "    n = len(nums)\n",
    "    res = [0] * n\n",
    "\n",
    "    for i in range(n-1, -1, -1):\n",
    "        # Update the stack to be monotonic decreasing based on nums[i]\n",
    "        while stack and stack[-1]<nums[i]:\n",
    "            stack.pop()\n",
    "\n",
    "        # stack[-1] is the largest number to the right of nums[i]\n",
    "        res[i] = stack[-1] if stack else -1\n",
    "\n",
    "        # Update the stack with the current element\n",
    "        stack.append(nums[i])\n",
    "\n",
    "    return res\n",
    "\n",
    "        "
   ]
  },
  {
   "cell_type": "code",
   "execution_count": null,
   "id": "b763641d-e926-44ba-bdef-a7248cf654af",
   "metadata": {},
   "outputs": [],
   "source": []
  },
  {
   "cell_type": "code",
   "execution_count": null,
   "id": "b3dc069f-b575-4e6a-a67d-1d13d3da818c",
   "metadata": {},
   "outputs": [],
   "source": []
  }
 ],
 "metadata": {
  "kernelspec": {
   "display_name": "Python 3 (ipykernel)",
   "language": "python",
   "name": "python3"
  },
  "language_info": {
   "codemirror_mode": {
    "name": "ipython",
    "version": 3
   },
   "file_extension": ".py",
   "mimetype": "text/x-python",
   "name": "python",
   "nbconvert_exporter": "python",
   "pygments_lexer": "ipython3",
   "version": "3.11.9"
  }
 },
 "nbformat": 4,
 "nbformat_minor": 5
}
