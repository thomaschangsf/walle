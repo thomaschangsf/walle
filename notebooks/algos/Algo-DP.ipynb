{
 "cells": [
  {
   "cell_type": "markdown",
   "id": "46946fe7-b4c3-4721-83db-44cceb669002",
   "metadata": {},
   "source": [
    "### Introduction"
   ]
  },
  {
   "cell_type": "code",
   "execution_count": null,
   "id": "ee5787a7-f114-4b46-b23e-6abcad409aef",
   "metadata": {},
   "outputs": [],
   "source": []
  },
  {
   "cell_type": "markdown",
   "id": "b4700973-2c9a-4daa-95ca-97b9318c2c42",
   "metadata": {},
   "source": [
    "### Climbing Stairs"
   ]
  },
  {
   "cell_type": "code",
   "execution_count": null,
   "id": "d611ff60-65d1-44a4-9dfa-ff2218dde77f",
   "metadata": {},
   "outputs": [],
   "source": []
  },
  {
   "cell_type": "markdown",
   "id": "693e6cdc-3861-4c03-99a4-4680c2af5fda",
   "metadata": {},
   "source": [
    "###  Min Coin Combination"
   ]
  },
  {
   "cell_type": "code",
   "execution_count": null,
   "id": "69850f43-bd24-45be-9ecd-736913665185",
   "metadata": {},
   "outputs": [],
   "source": []
  },
  {
   "cell_type": "markdown",
   "id": "497044ea-1371-4a9f-b4ec-56d2e09742fe",
   "metadata": {},
   "source": [
    "### Matrix Pathways"
   ]
  },
  {
   "cell_type": "code",
   "execution_count": null,
   "id": "262678d4-3c00-43a4-935a-1a5ad3b38bf2",
   "metadata": {},
   "outputs": [],
   "source": []
  },
  {
   "cell_type": "markdown",
   "id": "9b6ad9af-12c6-4ef3-b290-56e2f82a52f4",
   "metadata": {},
   "source": [
    "### Neighborhood Buglary"
   ]
  },
  {
   "cell_type": "code",
   "execution_count": null,
   "id": "ff045919-9472-4852-b241-787a95819ed4",
   "metadata": {},
   "outputs": [],
   "source": []
  },
  {
   "cell_type": "markdown",
   "id": "d350b836-5a84-4c62-914a-bd444c9261c8",
   "metadata": {},
   "source": [
    "### Longest Common Subsequences"
   ]
  },
  {
   "cell_type": "code",
   "execution_count": null,
   "id": "81d61e25-83f0-477a-8106-aee418032743",
   "metadata": {},
   "outputs": [],
   "source": []
  },
  {
   "cell_type": "markdown",
   "id": "d55a78bd-648e-4969-8c8a-fdf0ee814b94",
   "metadata": {},
   "source": [
    "### Longest Palindrome in a String"
   ]
  },
  {
   "cell_type": "code",
   "execution_count": null,
   "id": "40297015-fb44-4b00-984b-f348d45cd5b3",
   "metadata": {},
   "outputs": [],
   "source": []
  },
  {
   "cell_type": "markdown",
   "id": "38d30b6b-00ca-4e23-81ac-654536a6e1d9",
   "metadata": {},
   "source": [
    "### Maximum Subarray Sum"
   ]
  },
  {
   "cell_type": "code",
   "execution_count": null,
   "id": "31e10a9b-f5ce-46a3-aad4-fc529fab058f",
   "metadata": {},
   "outputs": [],
   "source": []
  },
  {
   "cell_type": "markdown",
   "id": "4534ca76-5e3f-4323-9073-1df24231a991",
   "metadata": {},
   "source": [
    "### 0/1 Knapsack"
   ]
  },
  {
   "cell_type": "code",
   "execution_count": null,
   "id": "844b1804-86fd-4e15-97e5-ff061bd33288",
   "metadata": {},
   "outputs": [],
   "source": []
  }
 ],
 "metadata": {
  "kernelspec": {
   "display_name": "Python 3 (ipykernel)",
   "language": "python",
   "name": "python3"
  },
  "language_info": {
   "codemirror_mode": {
    "name": "ipython",
    "version": 3
   },
   "file_extension": ".py",
   "mimetype": "text/x-python",
   "name": "python",
   "nbconvert_exporter": "python",
   "pygments_lexer": "ipython3",
   "version": "3.11.9"
  }
 },
 "nbformat": 4,
 "nbformat_minor": 5
}
