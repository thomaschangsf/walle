{
 "cells": [
  {
   "cell_type": "markdown",
   "id": "46946fe7-b4c3-4721-83db-44cceb669002",
   "metadata": {},
   "source": [
    "### Introduction\n",
    "- pg 309\n",
    "- Application is to optimization problems\n",
    "    * Comes down tofinding/defing suboptimized structure, ie f(n) = f(n-1) + f(n-2)\n",
    "- DP, like recursion, breaks down the problem into multiple problems\n",
    "    * Recursion, though, can solve the same problem multiple times\n",
    "    * DP, in comparison, solves the subproblem only once\n",
    "- DP process\n",
    "    * Optimal substructure: the optimal solution can be constructed from the optimal problem of its sub-problems\n",
    "    * Overlapping subproblems: the same subproblem is solved multiple times\n",
    "    * Recurrence solution: a formulae that express the solution in terms of solution of previous subproblems\n",
    "    * Base case: the simplest instance of the problem where the solution is already known\n",
    "- Top Down vs Bottom Up\n",
    "    * Top down is more intuitive (Memoization)\n",
    "    * Bottom Up"
   ]
  },
  {
   "cell_type": "code",
   "execution_count": null,
   "id": "ee5787a7-f114-4b46-b23e-6abcad409aef",
   "metadata": {},
   "outputs": [],
   "source": []
  },
  {
   "cell_type": "markdown",
   "id": "b4700973-2c9a-4daa-95ca-97b9318c2c42",
   "metadata": {},
   "source": [
    "### Climbing Stairs"
   ]
  },
  {
   "cell_type": "code",
   "execution_count": null,
   "id": "d611ff60-65d1-44a4-9dfa-ff2218dde77f",
   "metadata": {},
   "outputs": [],
   "source": []
  },
  {
   "cell_type": "markdown",
   "id": "693e6cdc-3861-4c03-99a4-4680c2af5fda",
   "metadata": {},
   "source": [
    "###  Min Coin Combination"
   ]
  },
  {
   "cell_type": "code",
   "execution_count": null,
   "id": "69850f43-bd24-45be-9ecd-736913665185",
   "metadata": {},
   "outputs": [],
   "source": []
  },
  {
   "cell_type": "markdown",
   "id": "497044ea-1371-4a9f-b4ec-56d2e09742fe",
   "metadata": {},
   "source": [
    "### Matrix Pathways"
   ]
  },
  {
   "cell_type": "code",
   "execution_count": null,
   "id": "262678d4-3c00-43a4-935a-1a5ad3b38bf2",
   "metadata": {},
   "outputs": [],
   "source": []
  },
  {
   "cell_type": "markdown",
   "id": "9b6ad9af-12c6-4ef3-b290-56e2f82a52f4",
   "metadata": {},
   "source": [
    "### Neighborhood Buglary"
   ]
  },
  {
   "cell_type": "code",
   "execution_count": null,
   "id": "ff045919-9472-4852-b241-787a95819ed4",
   "metadata": {},
   "outputs": [],
   "source": []
  },
  {
   "cell_type": "markdown",
   "id": "d350b836-5a84-4c62-914a-bd444c9261c8",
   "metadata": {},
   "source": [
    "### Longest Common Subsequences\n",
    "- Given 2 strings, find the length of their longest common subsequence (LCS).  A subsequence is a sequence of characters can be derived from a string by deleting zero or more elements, without changing the ORDER of the remaining subsequence.\n",
    "- Example:\n",
    "    * Input: s1=\"acaba\" s2=\"aebab\"\n",
    "    * Result: 3    either:aba, aba, or aab \n",
    "- What is the recurrence? Can we derive an equation where the optimal solution depends on solving a subproblem, aka optimal substructure.\n",
    "    * At every recurrence, it the 2 characters from the 2 string either matches or not match\n",
    "    * if match: LCS(i, j) = 1 + LCS(i+1, j+1)\n",
    "    * if not match: LCS(i, j) = max( LCS(i, j+1), LCS(i+1, j)"
   ]
  },
  {
   "cell_type": "code",
   "execution_count": 3,
   "id": "81d61e25-83f0-477a-8106-aee418032743",
   "metadata": {},
   "outputs": [],
   "source": [
    "def lcs(s1, s2):\n",
    "    # Note: we create an extra row, col since the base answer is 1\n",
    "    m = len(s1) + 1\n",
    "    n = len(s2) + 1\n",
    "\n",
    "    # Create a board that is len(s2) wide and len(s1) deep\n",
    "    dp = [ [0] * len(n) for _ in range(len(m)) ]\n",
    "\n",
    "    # range(,,-1) does not include the digit. if we want 0, we need -1\n",
    "    # By recursing \"BACKWARD\", we don't need to use recursion.\n",
    "    for i in range(m, -1, -1):\n",
    "        for j in range(n, -1, -1):\n",
    "            if s1[i] == s2[j]:\n",
    "                dp[i][j] = 1 + dp[i+1][j+1]\n",
    "            else:\n",
    "                dp[i][j] = max( dp[i+1][j], dp[i][j+1] )\n",
    "\n",
    "    return dp[0][0]\n",
    "                \n",
    "            \n",
    "            "
   ]
  },
  {
   "cell_type": "markdown",
   "id": "d55a78bd-648e-4969-8c8a-fdf0ee814b94",
   "metadata": {},
   "source": [
    "### Longest Palindrome in a String"
   ]
  },
  {
   "cell_type": "code",
   "execution_count": null,
   "id": "40297015-fb44-4b00-984b-f348d45cd5b3",
   "metadata": {},
   "outputs": [],
   "source": []
  },
  {
   "cell_type": "markdown",
   "id": "38d30b6b-00ca-4e23-81ac-654536a6e1d9",
   "metadata": {},
   "source": [
    "### Maximum Subarray Sum"
   ]
  },
  {
   "cell_type": "code",
   "execution_count": null,
   "id": "31e10a9b-f5ce-46a3-aad4-fc529fab058f",
   "metadata": {},
   "outputs": [],
   "source": []
  },
  {
   "cell_type": "markdown",
   "id": "4534ca76-5e3f-4323-9073-1df24231a991",
   "metadata": {},
   "source": [
    "### 0/1 Knapsack"
   ]
  },
  {
   "cell_type": "code",
   "execution_count": null,
   "id": "844b1804-86fd-4e15-97e5-ff061bd33288",
   "metadata": {},
   "outputs": [],
   "source": []
  }
 ],
 "metadata": {
  "kernelspec": {
   "display_name": "Python 3 (ipykernel)",
   "language": "python",
   "name": "python3"
  },
  "language_info": {
   "codemirror_mode": {
    "name": "ipython",
    "version": 3
   },
   "file_extension": ".py",
   "mimetype": "text/x-python",
   "name": "python",
   "nbconvert_exporter": "python",
   "pygments_lexer": "ipython3",
   "version": "3.11.9"
  }
 },
 "nbformat": 4,
 "nbformat_minor": 5
}
