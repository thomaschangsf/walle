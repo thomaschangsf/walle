{
 "cells": [
  {
   "cell_type": "markdown",
   "id": "95321f5b-5897-48e8-ad76-7b3459205ce4",
   "metadata": {},
   "source": [
    "# BackGround"
   ]
  },
  {
   "cell_type": "markdown",
   "id": "46946fe7-b4c3-4721-83db-44cceb669002",
   "metadata": {},
   "source": [
    "### Introduction\n",
    "- pg 309\n",
    "- Application is to optimization problems\n",
    "    * Comes down tofinding/defing suboptimized structure, ie f(n) = f(n-1) + f(n-2)\n",
    "- DP, like recursion, breaks down the problem into multiple problems\n",
    "    * Recursion, though, can solve the same problem multiple times\n",
    "    * DP, in comparison, solves the subproblem only once\n",
    "- DP process\n",
    "    * Optimal substructure: the optimal solution can be constructed from the optimal problem of its sub-problems\n",
    "    * Overlapping subproblems: the same subproblem is solved multiple times\n",
    "    * Recurrence solution: a formulae that express the solution in terms of solution of previous subproblems\n",
    "    * Base case: the simplest instance of the problem where the solution is already known\n",
    "- Top Down vs Bottom Up\n",
    "    * Top down is more intuitive (Memoization)\n",
    "    * Bottom Up\n",
    "- How is DP related and different from\n",
    "    * BFS grid search\n",
    "      - BFS is applied to a graph; from node A to node B\n",
    "          * See Algo-Graphs.ipynb : DataBricks Find Most Efficient Transportation\n",
    "    * Binary Search\n",
    "      - Binary search is applied to a sorted array\n",
    "    * Sliding Windows\n",
    "      - Sliding windows has a constraint on array\n",
    "\n"
   ]
  },
  {
   "cell_type": "code",
   "execution_count": null,
   "id": "63721137-413b-4e19-975c-074873cd63bf",
   "metadata": {},
   "outputs": [],
   "source": []
  },
  {
   "cell_type": "markdown",
   "id": "a9d72951-05e6-4e7a-a841-ee7c81ee4540",
   "metadata": {},
   "source": [
    "### BFS vs DP [ In details ]\n",
    "\n",
    "#### Why BFS is not Dynamic Programming?\n",
    "1. No Overlapping Subproblems – Dynamic programming is used when a problem has overlapping subproblems that can be solved once and stored for reuse. BFS, however, processes nodes level by level in a graph without recomputing results for previously visited nodes.\n",
    "\n",
    "2. No Explicit State Memoization – In DP, we store intermediate results (memoization or tabulation) to avoid redundant computations. BFS does not rely on such memoization; instead, it uses a queue to explore nodes in layers.\n",
    "    * BFS uses a set to reduce redundant exploration. In comparison, DP uses memoization to store solutions to overlapping problems.\n",
    "    * Purpose and Scope\n",
    "      - In BFS, the visited set is used to prevent cycles and redundant exploration in a graph or tree.\n",
    "      - In DP, memoization is used to store and reuse solutions to overlapping subproblems, enabling efficient recomputation.\n",
    "    * Storage of Values vs. Presence Tracking\n",
    "      - DP memoization stores computed values (e.g., dp[i] = optimal_value for subproblem i).\n",
    "      - BFS visited set only records the presence of a node (i.e., \"Have I seen this before?\"), but does not store a computed result beyond marking it visited.\n",
    "    * State Dependency\n",
    "       - DP builds solutions using previous subproblem results, reusing stored values in a recursive or iterative manner.\n",
    "       - BFS explores nodes layer by layer, but does not compute a result that is dependent on previous computations—it simply follows the graph structure.\n",
    "3. Graph Traversal vs. Optimization – BFS is primarily a graph traversal algorithm used for shortest paths in unweighted graphs, while DP is often used for solving optimization problems by breaking them down into smaller subproblems.\n",
    "\n",
    "\n",
    "#### When BFS Resembles Dynamic Programming\n",
    "While BFS is not inherently a DP technique, certain applications exhibit DP-like properties:\n",
    "- Shortest Path in an Unweighted Graph: BFS finds the shortest path by building solutions incrementally, similar to how DP solves problems step by step.\n",
    "- State Transition Similarity: Some DP problems can be solved using BFS-like approaches, especially in grid-based shortest path problems (e.g., \"minimum steps to reach a target\").\n",
    "- Graph-Based DP Problems: Problems like \"minimum cost path in a weighted DAG\" can be solved using DP on a topologically sorted graph, which has similarities to BFS.\n",
    "\n",
    "\n",
    "#### Table Comparison of Two-Pointer, Prefix Sum, and Kadane’s Algorithm\n",
    "\n",
    "| Approach                   | Requires Positive Numbers? | Handles Negative Numbers? | Works for Maximum Subarray? |\n",
    "|----------------------------|---------------------------|---------------------------|-----------------------------|\n",
    "| **Two-Pointer Sliding Window** | ✅ Yes  | ❌ No  | ❌ No  |\n",
    "| **Prefix Sum**              | ❌ No  | ✅ Yes  | ✅ Yes  |\n",
    "| **Kadane’s Algorithm (DP)** | ❌ No  | ✅ Yes  | ✅ Yes (Best approach) |\n"
   ]
  },
  {
   "cell_type": "markdown",
   "id": "ea79ce4b-4010-4bdd-bac6-cbc89cd287cb",
   "metadata": {},
   "source": [
    "### DP Problem Categorizations\n",
    "- Types\n",
    "    * 1 Dimensions: Climbing stairs, min coin, neihborhood burglary, max subarray sum\n",
    "    * 2 Dimensions: Matrix subway, longest palindrome, longest common subsequence, 0/1 knapsack\n",
    "- Summary:\n",
    "    * 1D DP: One variable determines the state (e.g., Fibonacci, Climbing Stairs, Coin Change).\n",
    "    * 2D DP: Two variables determine the state (e.g., Matrix Pathways, 0/1 Knapsack, LCS).\n",
    "- HOW:\n",
    "    * Check the state transition:\n",
    "      - If solving the problem at i only depends on previous single states (e.g., dp[i-1] or dp[i-2]), it's likely 1D DP.\n",
    "      - If solving the problem at (i, j) depends on multiple dimensions (dp[i-1][j], dp[i][j-1]), it's 2D DP.\n",
    "    * Is there an explicit second variable?\n",
    "      - f the problem involves two factors like positions in a grid, two strings, or weight vs. items, it's 2D DP.\n",
    "      - If it only involves a linear sequence like steps, amounts, or indices, it's 1D DP"
   ]
  },
  {
   "cell_type": "markdown",
   "id": "c96a1510-40cd-4d04-ba4b-5ed8999d7652",
   "metadata": {},
   "source": [
    "- 1D vs. 2D Dynamic Programming (DP)\n",
    "\n",
    "| **Problem**                              | **State Representation**                                   | **Type** |\n",
    "|------------------------------------------|----------------------------------------------------------|---------|\n",
    "| **Climbing Stairs** (n steps, 1 or 2 at a time) | `dp[i] = ways to reach step i`                          | **1D** |\n",
    "| **Min Coin Change** (min coins for amount n) | `dp[i] = min coins needed for amount i`                 | **1D** |\n",
    "| **House Robber** (Max money, non-adjacent houses) | `dp[i] = max money up to house i`                      | **1D** |\n",
    "| **Fibonacci Numbers**                     | `dp[i] = Fib(i)`                                        | **1D** |\n",
    "| **Matrix Pathways** (Paths from top-left to bottom-right) | `dp[i][j] = ways to reach cell (i, j)`                 | **2D** |\n",
    "| **0/1 Knapsack** (Max value with weight limit) | `dp[i][j] = max value using first i items and capacity j` | **2D** |\n",
    "| **Longest Common Subsequence (LCS)**       | `dp[i][j] = LCS of first i chars of str1 & first j of str2` | **2D** |\n",
    "| **Edit Distance** (Min edits to convert one string to another) | `dp[i][j] = min operations to convert str1[0:i] to str2[0:j]` | **2D** |\n"
   ]
  },
  {
   "cell_type": "markdown",
   "id": "eb2c50a0-810f-4055-a22b-95ebd95a5f6b",
   "metadata": {},
   "source": [
    "# PROBLEMS"
   ]
  },
  {
   "cell_type": "markdown",
   "id": "b4700973-2c9a-4daa-95ca-97b9318c2c42",
   "metadata": {},
   "source": [
    "### Climbing Stairs\n",
    "- Determine the number of distinct ways to climb a staircase of n steps by taking either 1 or 2 steps at a time\n",
    "- Supoptimal structure:\n",
    "    * dp[i] = dp[i-1] + dp[i-2]"
   ]
  },
  {
   "cell_type": "markdown",
   "id": "bcffe30b-5605-4965-84f0-f3af60a91abe",
   "metadata": {},
   "source": [
    "- What does it mean to go top down or bottom up?\n",
    "    * It refers to how you build up your dp state, iow how i iterates\n",
    "    * bottom up: i from begining dp to final dp, aka answer\n",
    "    * top down: i from final dp to beginning dp.  we use recursion to build the begging dp first though."
   ]
  },
  {
   "cell_type": "code",
   "execution_count": 8,
   "id": "d611ff60-65d1-44a4-9dfa-ff2218dde77f",
   "metadata": {},
   "outputs": [],
   "source": [
    "# Runtime: O(n)\n",
    "# Space: O(n+1)\n",
    "def bottom_up(n):\n",
    "    if n < 2:\n",
    "        return n\n",
    "\n",
    "    # Create more space than needed\n",
    "    dp = [0] * (n+1) \n",
    "    dp[1], dp[2] = 1, 2\n",
    "\n",
    "    for i in range(3, n+1):\n",
    "        dp[i] = dp[i-1] + dp[i-2]\n",
    "\n",
    "    return dp[n]"
   ]
  },
  {
   "cell_type": "code",
   "execution_count": 10,
   "id": "7110e026-5381-4881-9a40-fc158555f79f",
   "metadata": {},
   "outputs": [],
   "source": [
    "memo = {}\n",
    "\n",
    "# Top down --> think of a recurrence tree\n",
    "# Run time: branch^(depth_of_tree) = O(n)\n",
    "# Space complexity: depth of tree: O(n)\n",
    "def top_down(i): # i is base 1\n",
    "    if i <= 2:\n",
    "        return \n",
    "    \n",
    "    if i in memo:\n",
    "        return i\n",
    "\n",
    "    memo[i] = top_down(i-1) + top_down(i-2)\n",
    "\n",
    "    return memo[i]\n",
    "    \n",
    "#top_down(n)\n"
   ]
  },
  {
   "cell_type": "code",
   "execution_count": null,
   "id": "535cd591-8c79-4411-a405-f00a7a968d6e",
   "metadata": {},
   "outputs": [],
   "source": [
    "# Run time: branch^(depth_of_tree) = 2^n\n",
    "# Space complexity: depth of tree: O(n)\n",
    "def brute_force(n):\n",
    "    if n == 1:\n",
    "        return 1\n",
    "    if n == 2:\n",
    "        return 2\n",
    "    return brute_force(n - 1) + brute_force(n - 2)\n",
    "\n",
    "# Example Usage:"
   ]
  },
  {
   "cell_type": "code",
   "execution_count": null,
   "id": "d10dc7a2-88ce-4ba1-941d-01973f4dd730",
   "metadata": {},
   "outputs": [],
   "source": []
  },
  {
   "cell_type": "markdown",
   "id": "693e6cdc-3861-4c03-99a4-4680c2af5fda",
   "metadata": {},
   "source": [
    "###  Min Coin Combination\n",
    "- You are given an array of coin values and a target amount of money. Return the min number of coins need to total the target amount. If this is not possible, return -1. You may assume there's an unlimited suppof of each coin.\n",
    "- Ex1:\n",
    "    * Input: coins = [1,2,3], target = 5\n",
    "    * Output: 2 bc you can use coins 2 and 3 \n",
    "- Ex2:\n",
    "    * Input: coins = [2, 4], target = 5\n",
    "    * Output: -1\n",
    "- Suboptimal structure:\n",
    "    * dp[target] = 1 + min( dp[target - c_i] | c_i in coins)"
   ]
  },
  {
   "cell_type": "code",
   "execution_count": 28,
   "id": "69850f43-bd24-45be-9ecd-736913665185",
   "metadata": {},
   "outputs": [
    {
     "data": {
      "text/plain": [
       "2"
      ]
     },
     "execution_count": 28,
     "metadata": {},
     "output_type": "execute_result"
    }
   ],
   "source": [
    "def min_coins_bottom_up(coins, target):\n",
    "    # same\n",
    "    dp = [ float('inf') ] * (target + 1)\n",
    "    #dp = [float('inf') for _ in range(target+1)]\n",
    "    dp[0] = 0\n",
    "    \n",
    "    for t in range(1, target+1):\n",
    "        for c in coins:\n",
    "            if c <= t:\n",
    "                dp[t] = min(dp[t], dp[t - c] + 1)\n",
    "\n",
    "    return dp[target] if dp[target] != float('inf') else -1\n",
    "\n",
    "min_coins_bottom_up(coins=[1,2,3], target=5)"
   ]
  },
  {
   "cell_type": "code",
   "execution_count": 34,
   "id": "357f3746-a7c7-43ab-a82d-29245bfdebb3",
   "metadata": {},
   "outputs": [
    {
     "data": {
      "text/plain": [
       "2"
      ]
     },
     "execution_count": 34,
     "metadata": {},
     "output_type": "execute_result"
    }
   ],
   "source": [
    "#memo = {} #[float('inf') ] * (target + 1)\n",
    "memo = [float('inf') ] * (target + 1)\n",
    "\n",
    "def min_coins_top_down(coins, target):\n",
    "    if target <= 0:\n",
    "        return 0\n",
    "    if target in memo:\n",
    "        return memo[target]\n",
    "\n",
    "    for c in coins:\n",
    "        if (c <= target):\n",
    "            memo[target] =  min( memo[target], min_coins_top_down(coins, target - c) + 1 )    \n",
    "\n",
    "    return memo[target]\n",
    "\n",
    "res = min_coins_top_down(coins=[1,2,3], target=5)\n",
    "\n",
    "res if res != float('inf') else -1"
   ]
  },
  {
   "cell_type": "code",
   "execution_count": null,
   "id": "cffb46dc-ee23-423e-b0dd-ae8303f52b06",
   "metadata": {},
   "outputs": [],
   "source": []
  },
  {
   "cell_type": "code",
   "execution_count": null,
   "id": "4a2b50cc-0fff-4719-aa05-583964e025e8",
   "metadata": {},
   "outputs": [],
   "source": []
  },
  {
   "cell_type": "markdown",
   "id": "497044ea-1371-4a9f-b4ec-56d2e09742fe",
   "metadata": {},
   "source": [
    "### Matrix Pathways\n",
    "- ou are positioned at the top left corner of a mxn matrix, and can only move downward or righward through the matrix. Determine the number of unique pathways you can take to reach the bottom right corner of the matrix\n",
    "- Input: m=3, n=3\n",
    "- OUtput: 6"
   ]
  },
  {
   "cell_type": "code",
   "execution_count": null,
   "id": "262678d4-3c00-43a4-935a-1a5ad3b38bf2",
   "metadata": {},
   "outputs": [],
   "source": []
  },
  {
   "cell_type": "markdown",
   "id": "9b6ad9af-12c6-4ef3-b290-56e2f82a52f4",
   "metadata": {},
   "source": [
    "### Neighborhood Buglary\n",
    "- You plan to rob houses in a street where each house store a certain amount of money. The neighborhood has a security system that sets off an alarm when two adjacent houses are robeed.  Return the max amount of cash that can be stollen without triggering the alarms.\n",
    "- Example:\n",
    "    *  Input: houses = [200, 300, 200, 50]\n",
    "    *  OUtput: 400"
   ]
  },
  {
   "cell_type": "code",
   "execution_count": null,
   "id": "ff045919-9472-4852-b241-787a95819ed4",
   "metadata": {},
   "outputs": [],
   "source": []
  },
  {
   "cell_type": "markdown",
   "id": "d350b836-5a84-4c62-914a-bd444c9261c8",
   "metadata": {},
   "source": [
    "### Longest Common Subsequences\n",
    "- Given 2 strings, find the length of their longest common subsequence (LCS).  A subsequence is a sequence of characters can be derived from a string by deleting zero or more elements, without changing the ORDER of the remaining subsequence.\n",
    "- Example:\n",
    "    * Input: s1=\"acaba\" s2=\"aebab\"\n",
    "    * Result: 3    either:aba, aba, or aab \n",
    "- What is the recurrence? Can we derive an equation where the optimal solution depends on solving a subproblem, aka optimal substructure.\n",
    "    * At every recurrence, it the 2 characters from the 2 string either matches or not match\n",
    "    * if match: LCS(i, j) = 1 + LCS(i+1, j+1)\n",
    "    * if not match: LCS(i, j) = max( LCS(i, j+1), LCS(i+1, j)"
   ]
  },
  {
   "cell_type": "code",
   "execution_count": 3,
   "id": "81d61e25-83f0-477a-8106-aee418032743",
   "metadata": {},
   "outputs": [],
   "source": [
    "def lcs(s1, s2):\n",
    "    # Note: we create an extra row, col since the base answer is 1\n",
    "    m = len(s1) + 1\n",
    "    n = len(s2) + 1\n",
    "\n",
    "    # Create a board that is len(s2) wide and len(s1) deep\n",
    "    dp = [ [0] * len(n) for _ in range(len(m)) ]\n",
    "\n",
    "    # range(,,-1) does not include the digit. if we want 0, we need -1\n",
    "    # By recursing \"BACKWARD\", we don't need to use recursion.\n",
    "    for i in range(m, -1, -1):\n",
    "        for j in range(n, -1, -1):\n",
    "            if s1[i] == s2[j]:\n",
    "                dp[i][j] = 1 + dp[i+1][j+1]\n",
    "            else:\n",
    "                dp[i][j] = max( dp[i+1][j], dp[i][j+1] )\n",
    "\n",
    "    return dp[0][0]\n",
    "                \n",
    "            \n",
    "            "
   ]
  },
  {
   "cell_type": "markdown",
   "id": "d55a78bd-648e-4969-8c8a-fdf0ee814b94",
   "metadata": {},
   "source": [
    "### Longest Palindrome in a String\n",
    "- Return the longest palindrome substring within a given string\n",
    "- Example:\n",
    "    * Input: s = \"abccbaba\"\n",
    "    * Output: \"abccba\""
   ]
  },
  {
   "cell_type": "code",
   "execution_count": null,
   "id": "40297015-fb44-4b00-984b-f348d45cd5b3",
   "metadata": {},
   "outputs": [],
   "source": []
  },
  {
   "cell_type": "markdown",
   "id": "38d30b6b-00ca-4e23-81ac-654536a6e1d9",
   "metadata": {},
   "source": [
    "### Maximum Subarray Sum\n",
    "- Given an array of integers, return the sum of the subarray with the largest sum.\n",
    "- Example:\n",
    "    * Input: nums = [3, 1, -6, 2, -1, 4, -9]\n",
    "    * OUtput: [2, -1, 4] has the largest sum of 5\n",
    "- Can be solved with DP (aka Kadane's Algo, 2 pointer sliding window, and prefix sum)!!!"
   ]
  },
  {
   "cell_type": "markdown",
   "id": "031ccd51-9d89-46c9-b797-a7572f5688c1",
   "metadata": {},
   "source": [
    "##### Approach 1: 2 Pointer\n",
    "- Requires nums to contain ONLY positive number \n",
    "- REASON:  relies on the assumption that expanding the window (moving right forward) increases the sum and that contracting the window (moving left forward) decreases the sum in a way that improves efficiency. However, this assumption breaks down when negative numbers are involved.\n"
   ]
  },
  {
   "cell_type": "code",
   "execution_count": 3,
   "id": "31e10a9b-f5ce-46a3-aad4-fc529fab058f",
   "metadata": {},
   "outputs": [],
   "source": [
    "def maxSubArrayTwoPointer(nums):\n",
    "    left = 0\n",
    "    current_sum = 0\n",
    "    max_sum = float('-inf')\n",
    "\n",
    "    for right in range(len(nums)):\n",
    "        current_sum += nums[right]\n",
    "\n",
    "        while left <= right and current_sum < 0:  # Contract window if sum becomes negative\n",
    "            current_sum -= nums[left]\n",
    "            left += 1\n",
    "\n",
    "        max_sum = max(max_sum, current_sum)\n",
    "\n",
    "    return max_sum"
   ]
  },
  {
   "cell_type": "markdown",
   "id": "0b9c7d0c-491c-48b9-b42d-4e8f4a534cfd",
   "metadata": {},
   "source": [
    "##### Approach 2: Prefix Sum\n",
    "- Here, min_prefix keeps track of the smallest prefix sum encountered so far.\n",
    "prefix_sum is the running sum of the array up to the current index.\n",
    "- At each step, we compute the difference prefix_sum - min_prefix, which effectively checks the sum of a subarray ending at the current position.\n",
    "- This works because subtracting a smaller prefix sum maximizes the subarray sum.\n"
   ]
  },
  {
   "cell_type": "code",
   "execution_count": null,
   "id": "e37a92d1-56c1-4b54-8f10-e6a5f580e684",
   "metadata": {},
   "outputs": [],
   "source": [
    "def maxSubArrayTwoPointer(nums):\n",
    "    min_prefix = 0\n",
    "    max_sum = float('-inf')\n",
    "    prefix_sum = 0\n",
    "\n",
    "    for num in nums:\n",
    "        prefix_sum += num\n",
    "        max_sum = max(max_sum, prefix_sum - min_prefix)\n",
    "        min_prefix = min(min_prefix, prefix_sum)\n",
    "\n",
    "    return max_sum\n"
   ]
  },
  {
   "cell_type": "markdown",
   "id": "919778a8-90f1-4e28-a233-d56554fad2dc",
   "metadata": {},
   "source": [
    "##### Approach 3: DP : Kadane Algorithm\n",
    "- dp[i] is the max submara ending at index i\n",
    "- Recurrence: $$ dp[i]=max(nums[i],dp[i−1]+nums[i]) $$\n",
    "    * Either start a new subarray at i or extend the previous one."
   ]
  },
  {
   "cell_type": "code",
   "execution_count": 6,
   "id": "81c221a5-dd01-48ff-8b6b-1f10af86f42a",
   "metadata": {},
   "outputs": [],
   "source": [
    "def maxSubArray(nums):\n",
    "    max_sum = float('-inf')\n",
    "    current_sum = 0\n",
    "    \n",
    "    for num in nums:\n",
    "        current_sum = max(num, current_sum + num)\n",
    "        max_sum = max(max_sum, current_sum)\n",
    "    \n",
    "    return max_sum\n"
   ]
  },
  {
   "cell_type": "markdown",
   "id": "4534ca76-5e3f-4323-9073-1df24231a991",
   "metadata": {},
   "source": [
    "### 0/1 Knapsack\n",
    "- You are a thief robbing a store. You can only carray a knapsack with a maxiumc capacity of cap units.  Each item i has a weight weights[i] and a value value[i]. Find the total value of items you can carry in your knapsack.\n",
    "\n",
    "- Example\n",
    "    * Input: cap=7, weights=[5, 3, 4, 1], values=[70, 50, 40, 10]\n",
    "    * Output: 90\n",
    "    * reason: The most valuable combination are item 1 and 2, with a combined value of 90 and weight of 7.\n",
    "- Insights\n",
    "    * 2 dim DP problem, because dp(item i, capacity c) has 2 valriables\n",
    "      - item i is used to iterate the dp matrix\n",
    "    * suboptimial recurrence: either take or don't take the item\n",
    "      - dp[i][c] stores the max value\n",
    "      - dp[i][c] = max(include item, exclude item)\n",
    "      - dp[i][c] = (\\\n",
    "          values[i] + dp[i+1][c - weight[i]) # include item \\\n",
    "            dp[i+1][c] # do not include item \\\n",
    "        )"
   ]
  },
  {
   "cell_type": "code",
   "execution_count": 44,
   "id": "844b1804-86fd-4e15-97e5-ff061bd33288",
   "metadata": {},
   "outputs": [
    {
     "data": {
      "text/plain": [
       "90"
      ]
     },
     "execution_count": 44,
     "metadata": {},
     "output_type": "execute_result"
    }
   ],
   "source": [
    "capacity = 7\n",
    "weights = [5, 3, 4, 1]\n",
    "values = [70, 50, 40, 10]\n",
    "\n",
    "def knapsack(capacity, weights, values):\n",
    "    n = len(weights)\n",
    "\n",
    "    # we will iterate from bottom left to upper right in the [item][capacity] matrix because we use the row [i=0] and col[c=0] for initialization.\n",
    "    # Side: why range(n+1) ?\n",
    "    #    range(x) will create x elements, the last element being arr[x-1] bc of base 0.\n",
    "    #    Here, we want to create an extra row, so range(n+1), which last element being arr[x]\n",
    "    dp = [ [ 0 for _ in range (capacity + 1)] for _ in range(n+1) ]\n",
    "    # equivalent \n",
    "    # dp = [ [ 0 ] * (capacity + 1) for _ in range(n+1) ]\n",
    "\n",
    "    # Iterate the item i index backward because of the edge condition of having to look back if capacity is less than weight[i]\n",
    "    for i in range(n-1, -1, -1): # think about this, why is start=n-1 and end -1?\n",
    "        for c in range(1, capacity + 1): # c refers to how much \"SPACE\" we have \n",
    "            if c >= weights[i]:\n",
    "                dp[i][c] = max( dp[i+1][c], # do not include item i \\\n",
    "                                values[i] + dp[i+1][c - weights[i]] ) # this works because we already finished dp[i+1][...]\n",
    "            else:\n",
    "                dp[i][c] = dp[i+1][c]\n",
    "\n",
    "\n",
    "    # last element is upper right\n",
    "    return dp[0][capacity]\n",
    "\n",
    "knapsack(capacity, weights, values)\n"
   ]
  },
  {
   "cell_type": "code",
   "execution_count": 38,
   "id": "258e67b8-7a20-41fa-baf4-289a7bc8a29f",
   "metadata": {},
   "outputs": [
    {
     "data": {
      "text/plain": [
       "False"
      ]
     },
     "execution_count": 38,
     "metadata": {},
     "output_type": "execute_result"
    }
   ],
   "source": [
    "capacity = 3\n",
    "x1 = [0] * (capacity + 1)\n",
    "x2 = [0 for _ in  range(capacity + 1)]\n",
    "x1 == x2"
   ]
  },
  {
   "cell_type": "code",
   "execution_count": 39,
   "id": "316664e9-6703-481a-83ba-22487e4d8e92",
   "metadata": {},
   "outputs": [
    {
     "data": {
      "text/plain": [
       "[0, 0, 0]"
      ]
     },
     "execution_count": 39,
     "metadata": {},
     "output_type": "execute_result"
    }
   ],
   "source": [
    "x1"
   ]
  },
  {
   "cell_type": "code",
   "execution_count": 46,
   "id": "78e1ed3a-b05c-4080-8ec3-7968921846ed",
   "metadata": {},
   "outputs": [
    {
     "data": {
      "text/plain": [
       "[0, 1, 2]"
      ]
     },
     "execution_count": 46,
     "metadata": {},
     "output_type": "execute_result"
    }
   ],
   "source": [
    "list(range(3))"
   ]
  },
  {
   "cell_type": "code",
   "execution_count": null,
   "id": "60156a94-bab0-4163-8756-78b1af13ec7b",
   "metadata": {},
   "outputs": [],
   "source": []
  }
 ],
 "metadata": {
  "kernelspec": {
   "display_name": "Python 3 (ipykernel)",
   "language": "python",
   "name": "python3"
  },
  "language_info": {
   "codemirror_mode": {
    "name": "ipython",
    "version": 3
   },
   "file_extension": ".py",
   "mimetype": "text/x-python",
   "name": "python",
   "nbconvert_exporter": "python",
   "pygments_lexer": "ipython3",
   "version": "3.11.9"
  }
 },
 "nbformat": 4,
 "nbformat_minor": 5
}
