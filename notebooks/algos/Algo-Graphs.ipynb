{
 "cells": [
  {
   "cell_type": "markdown",
   "id": "f345d1e1-bed0-4ece-8287-3864418a0540",
   "metadata": {},
   "source": [
    "# 1 Overview\n",
    "- pg 247"
   ]
  },
  {
   "cell_type": "markdown",
   "id": "9fff3f2a-369a-4644-a1bd-9c176a0a4c75",
   "metadata": {},
   "source": [
    "## 1.1 Representation"
   ]
  },
  {
   "cell_type": "markdown",
   "id": "b9e52d83-ffa4-446a-86d0-fe9ed5d29328",
   "metadata": {},
   "source": [
    "### Adjacency List\n",
    "- 2-D matrix, where m[0] is a array of vertex connected to vertex 0\n",
    "- Preferred for sparse graph because it is more memory efficiety\n"
   ]
  },
  {
   "cell_type": "code",
   "execution_count": 9,
   "id": "5dcb8ea4-a6e6-4b8a-89eb-ea2e182fa51a",
   "metadata": {},
   "outputs": [
    {
     "name": "stdout",
     "output_type": "stream",
     "text": [
      "0: [1, 3]\n",
      "1: [2]\n",
      "2: [3]\n",
      "3: [0]\n"
     ]
    }
   ],
   "source": [
    "graph_unweighted = {\n",
    "    0: [1, 3],  # Vertex 0 is connected to vertices 1 and 3\n",
    "    1: [2],     # Vertex 1 is connected to vertex 2\n",
    "    2: [3],     # Vertex 2 is connected to vertex 3\n",
    "    3: [0]      # Vertex 3 is connected to vertex 0\n",
    "}\n",
    "\n",
    "graph_weighted = {\n",
    "    0: [(1, 5), (3, 2)],  # Vertex 0 is connected to 1 with weight 5, and 3 with weight 2\n",
    "    1: [(2, 3)],          # Vertex 1 is connected to 2 with weight 3\n",
    "    2: [(3, 8)],          # Vertex 2 is connected to 3 with weight 8\n",
    "    3: [(0, 1)]           # Vertex 3 is connected to 0 with weight 1\n",
    "}\n",
    "\n",
    "from collections import defaultdict\n",
    "graph = defaultdict(list)\n",
    "graph[0].extend([1, 3])  # Vertex 0 is connected to 1 and 3\n",
    "graph[1].append(2)       # Vertex 1 is connected to 2\n",
    "\n",
    "\n",
    "# index of graph array is the node id, and value is the connected nodes\n",
    "# See problem below: Bipartite Graph Validation\n",
    "graph_via_list = [[1,4], [0,2], [1], [4], [0,3] ]\n",
    "\n",
    "\n",
    "for vertex, edges in graph_unweighted.items():\n",
    "    print(f\"{vertex}: {edges}\")\n"
   ]
  },
  {
   "cell_type": "markdown",
   "id": "152918b6-a879-4576-9461-aa67840880c1",
   "metadata": {},
   "source": [
    "### Adjacency Matrix: \n",
    "- matrix[i][j] indicates whether there is an edge from vertex i to vertex j.\n",
    "- The value of matrix[1][j] can be:\n",
    "    * 1 for unweighted graph\n",
    "    * 1 for weighted graph\n",
    "- Preferred for dense graph"
   ]
  },
  {
   "cell_type": "code",
   "execution_count": 1,
   "id": "797c93bf-e6c0-4758-a320-c4990aec273c",
   "metadata": {},
   "outputs": [],
   "source": [
    "num_vertices = 4\n",
    "matrix = [ [0] * num_vertices for _ in range(num_vertices) ]"
   ]
  },
  {
   "cell_type": "markdown",
   "id": "467a1270-b752-4ff1-8054-d24d06be5110",
   "metadata": {},
   "source": [
    "### Via Class"
   ]
  },
  {
   "cell_type": "code",
   "execution_count": 2,
   "id": "dfd4d347-52d3-42ab-82b5-ec3b595a9ec3",
   "metadata": {},
   "outputs": [],
   "source": [
    "class GraphNode:\n",
    "    def __init__(self, val):\n",
    "        self.val = val\n",
    "        self.neighbors = []"
   ]
  },
  {
   "cell_type": "markdown",
   "id": "9f237c71-9230-411d-8e31-558e5845934e",
   "metadata": {},
   "source": [
    "## 1.2 Traversal\n",
    "- BFS and DFS support similar use cases\n",
    "- we may need to maintain a set to see which node we have visited"
   ]
  },
  {
   "cell_type": "markdown",
   "id": "34363c75-8369-4146-be94-b80769826880",
   "metadata": {},
   "source": [
    "### DFS"
   ]
  },
  {
   "cell_type": "code",
   "execution_count": null,
   "id": "685cdb95-3a15-4844-a4e7-23cabdb6474f",
   "metadata": {},
   "outputs": [],
   "source": [
    "visited = set()\n",
    "\n",
    "# Assuming graph is an adjacnecy list\n",
    "def dfs(graph, source):\n",
    "    visited.add(source)\n",
    "\n",
    "    # busines logic\n",
    "    # process(node)\n",
    "    \n",
    "    for destination in graph[source]:\n",
    "        if destination not in visited:\n",
    "            dfs(graph, destination)\n",
    "\n",
    "\n"
   ]
  },
  {
   "cell_type": "markdown",
   "id": "79b17a94-9103-4852-8a8a-515b17cdec34",
   "metadata": {},
   "source": [
    "### BFS"
   ]
  },
  {
   "cell_type": "code",
   "execution_count": 6,
   "id": "aa375e00-f0c8-4a0e-bbdc-94decf58e82f",
   "metadata": {},
   "outputs": [],
   "source": [
    "from collections import deque, defaultdict\n",
    "\n",
    "visited = set()\n",
    "\n",
    "def bfs(graph, source):\n",
    "    queue = deque([source])\n",
    "\n",
    "    while queue:\n",
    "        current = queue.popleft()\n",
    "        if current not in visited:\n",
    "            # Add business logic here\n",
    "            visisted.add(current)\n",
    "\n",
    "        for destination in graph[current]:\n",
    "            if destination not in visited:\n",
    "                queue.append(destination)"
   ]
  },
  {
   "cell_type": "markdown",
   "id": "c6cde087-709d-414c-9be8-8854839a0db5",
   "metadata": {},
   "source": [
    "# 2 DFS"
   ]
  },
  {
   "cell_type": "markdown",
   "id": "e84ed550-852b-4467-bb07-14235bf31e6e",
   "metadata": {},
   "source": [
    "### Graph Deep Copy\n",
    "- Given a reference to a node within a undirected graph, create a deep copy of the graph. "
   ]
  },
  {
   "cell_type": "code",
   "execution_count": 4,
   "id": "571e2b24-111a-42de-b6cc-2c20cab22b76",
   "metadata": {},
   "outputs": [],
   "source": [
    "def graph_deep_copy(node: GraphNode) -> GraphNode:\n",
    "    if not node:\n",
    "        return None\n",
    "    return dfs(node)\n",
    "\n",
    "def dfs(node: GraphNode, clone_map = {} ) -> GraphNode:\n",
    "    if node in clone_map:\n",
    "        return None\n",
    "\n",
    "    cloned_node = GraphNode(node.val)\n",
    "\n",
    "    for vertex in node.neighbors():\n",
    "        cloned_node.children.append(dfs(vertex, clone_map))\n",
    "    \n",
    "    return cloned_node"
   ]
  },
  {
   "cell_type": "markdown",
   "id": "5013f1bc-0ad8-475b-92ad-0794b6630552",
   "metadata": {},
   "source": [
    "### Count Islands\n",
    "- Given a binary matrix representing 1s as land and 0s as water, return the number of islands.  An island is formed by connecting adjacements lands up, down, left, and right\n",
    "\n"
   ]
  },
  {
   "cell_type": "code",
   "execution_count": 8,
   "id": "55653d21-51fc-45b7-bcef-3101fd6282ce",
   "metadata": {},
   "outputs": [],
   "source": [
    "# Insight:  Benefit of top down is that is more more intuitive what the goal of method dfs is.\n",
    "def count_islands_top_down(matrix):\n",
    "    num_islands = 0\n",
    "    \n",
    "    for r in range(len(matrix)):\n",
    "        for c in range(len(matrix[0])):\n",
    "            if matrix[r][c] == 1:\n",
    "                num_islands += 1\n",
    "                dfs(r, c, matrix) # mark all neighbors path to 0\n",
    "\n",
    "    return num_islands\n",
    "\n",
    "def dfs(r, c, matrix):\n",
    "    dirs = [ (-1,0), (1, 0), (0,-1), (0,1) ]\n",
    "\n",
    "    for x, y in dirs:\n",
    "        cur_x, cur_y = r+x, c+y\n",
    "        if (0<=cur_x<len(matrix)) and (0<=cur_y<len(matrix[0])) and (matrix[cur_x][cur_y]==1):\n",
    "            dfs(cur_x, cur_y, matrix)\n",
    "    \n",
    "    "
   ]
  },
  {
   "cell_type": "code",
   "execution_count": null,
   "id": "18e0120a-2d85-43ad-b178-c076ad75b3e9",
   "metadata": {},
   "outputs": [],
   "source": [
    "def count_islands_nested(matrix):\n",
    "\n",
    "    def dfs(r, c):\n",
    "        dirs = [ (0,1), (0,-1), (1,0), (-1, 0) ]\n",
    "        \n",
    "        for x, y in dirs:\n",
    "            next_row, nex_col = r+x, y_y\n",
    "            if (0<= next_row < num_rows) and (0<= next_col < num_cols) and matrix[r][c] == 1:\n",
    "                dfs(next_row, next_col)\n",
    "        return\n",
    "    \n",
    "    if not matrix:\n",
    "        return 0\n",
    "\n",
    "    num_rows, num_cols = len(matrix), len(matrix[0]])\n",
    "    num_islands = 0\n",
    "    for r in range(num_rows):\n",
    "        for c in range(num_cols):\n",
    "            if matrix[r][c] == 1:\n",
    "                num_islands += 1\n",
    "                matrix[r][c] = 0\n",
    "                dfs(r, c)\n",
    "\n",
    "    return num_islands        \n",
    "    "
   ]
  },
  {
   "cell_type": "markdown",
   "id": "8611c7b5-035b-4d1c-a7c6-218ae3ee4545",
   "metadata": {},
   "source": [
    "### Bipartite Graph Validation\n",
    "- Given a undirected graph, determine if it is bipartite. A graph is bipartite IFF the nodes can be colored in onr of 2 colors AND not two adjacent nodes have the same color\n",
    "\n",
    "- Input: graph = [[1,4], [0,2], [1], [4], [0,3] ]\n",
    "    * index of graph array is the node id, and value is the connected nodes\n",
    "- output: True"
   ]
  },
  {
   "cell_type": "code",
   "execution_count": 10,
   "id": "bc593698-9e39-4095-8a7f-5f9125719886",
   "metadata": {},
   "outputs": [],
   "source": [
    "def is_bipartite(graph):\n",
    "    # colors can have values: 0, 1, -1\n",
    "    colors = [0] * len(graph)\n",
    "\n",
    "    for i in graph:\n",
    "        if colors[i] == 0 and not dfs(i, 1, graph, colors):\n",
    "            return False\n",
    "        \n",
    "    return True\n",
    "\n",
    "# dfs : the recurrence is for each node, try to color its neighbors the opposite color. if unviisted, submit hat node into a dfs\n",
    "def dfs(node, color, graph, colors):\n",
    "    colors[node] = color\n",
    "\n",
    "    for v in graph[node]:\n",
    "        if colors[v] == color:\n",
    "            return False\n",
    "        if (colors[v] == 0) and not (dfs(v, -color, graph, colors)): \n",
    "            return False\n",
    "\n",
    "    return True\n"
   ]
  },
  {
   "cell_type": "markdown",
   "id": "227b14ea-c6ee-480b-9ead-b0d20fb411bc",
   "metadata": {},
   "source": [
    "### Longest Increasing Path\n",
    "- Find the \"LENGTH\" of longest strictly increasing path in a matrix of POSITIVE integers.  A path is a sequence of cells where each one is 4 directionally adjacent (up, down, left, or right)\n",
    "- "
   ]
  },
  {
   "cell_type": "code",
   "execution_count": 19,
   "id": "2b3218ef-78a8-409d-91b0-00c78b4ebfc6",
   "metadata": {},
   "outputs": [],
   "source": [
    "from typing import List\n",
    "\n",
    "def longest_increasing_path(matrix: List[List[int]]) -> int:\n",
    "    if not matrix:\n",
    "        return 0\n",
    "        \n",
    "    m, n = len(matrix), len(matrix[0])\n",
    "    max_num_path = 0\n",
    "\n",
    "    # memo[r][c] contains the max value of that path; it is the local max_num_path\n",
    "    memo = [ [0] * n for _ in range(m) ] \n",
    "    \n",
    "    for r in range(m):\n",
    "        for c in range(c):\n",
    "            max_num_path = max(max_num_path, dfs(r, c, matrix, memo))\n",
    "\n",
    "    return max_sum\n",
    "\n",
    "# DFS:\n",
    "#   Returns the max_num_path at position (r,c)\n",
    "#   Populates memo[r][c]\n",
    "def dfs(r, c, matrix, memo):\n",
    "    if memo[r][c] != 0:\n",
    "        return memo[r][c]\n",
    "\n",
    "    max_path = 1\n",
    "    dirs = [ (0,1), (0, -1), (1, 0), (-1, 0) ]\n",
    "\n",
    "    for dx, dy in dirs:\n",
    "        next_x, next_y = r + dx, c+dy\n",
    "        if within_bounds(next_x, next_y, matrix) and matrix[r][c] < matrix[next_x][next_y]:\n",
    "            max_path = max(max_path, 1 + dfs(next_x, next_y, matrix, memo) )\n",
    "\n",
    "    memo[r][c] = max_path\n",
    "    return max_path\n",
    "\n",
    "def within_bounds(r, c, matrix):\n",
    "    m, n = len(matrix), len(matrix[0])\n",
    "    return (0 <= r < m) and (0 <= c < n)"
   ]
  },
  {
   "cell_type": "markdown",
   "id": "c27fd670-0800-44c8-8709-1973d84c3baf",
   "metadata": {},
   "source": [
    "# 3 BFS"
   ]
  },
  {
   "cell_type": "code",
   "execution_count": 47,
   "id": "8ba61fcf-956f-49bd-98ad-2bba3e893c33",
   "metadata": {},
   "outputs": [
    {
     "name": "stdout",
     "output_type": "stream",
     "text": [
      "True\n"
     ]
    }
   ],
   "source": [
    "queues = defaultdict(list)\n",
    "queues[1].append(2)\n",
    "if queues:\n",
    "    print(True)"
   ]
  },
  {
   "cell_type": "markdown",
   "id": "323f0de5-3a02-46b0-b0bb-5b4cca849792",
   "metadata": {},
   "source": [
    "### DataBricks Find Most Efficient Transportation:\n",
    "- Problem:\n",
    "    * Give a grid, where there a m modes of transportation (1,2,3,4), find the most optimized mode of transportation between the start position S and position grid D.\n",
    "    * If there is a tie based on time, use cost as the tie breaker\n",
    "    * X means a road block\n",
    "\n",
    "- Insights:\n",
    "    * This is the shortest path hidden, so BFS and not DFS.\n",
    "    * What makes BFS optimal traversal?\n",
    "      - since each mode has the same cost, we only need to track the incremental distance from the destination\n",
    "      - this makes it a shortest path problem --> BFS\n",
    "    * How do I prevent revisiting the same position twice? This would also solve having multiple optimal solution for a particular mode\n",
    "      - Use a visited set.\n",
    "      - Add the new position when we add it to the queue "
   ]
  },
  {
   "cell_type": "code",
   "execution_count": 95,
   "id": "3f99e23c-bedb-41d9-9965-f35338886bca",
   "metadata": {},
   "outputs": [
    {
     "name": "stdout",
     "output_type": "stream",
     "text": [
      "dest_pos=(3, 4)\n",
      "\n",
      "queue=deque([(None, (3, 4))])\n",
      "\n",
      "New Level: dist=0\n",
      "\tcurr_mode=None cur_pos=(3, 4)\n",
      "\n",
      "New Level: dist=1\n",
      "\tcurr_mode=3 cur_pos=(3, 5)\n",
      "\tcurr_mode=3 cur_pos=(4, 4)\n",
      "\tcurr_mode=1 cur_pos=(3, 3)\n",
      "\tcurr_mode=2 cur_pos=(2, 4)\n",
      "\n",
      "New Level: dist=2\n",
      "\tcurr_mode=3 cur_pos=(4, 3)\n",
      "\tcurr_mode=1 cur_pos=(3, 2)\n",
      "\tcurr_mode=2 cur_pos=(2, 5)\n",
      "\tcurr_mode=2 cur_pos=(2, 3)\n",
      "\n",
      "New Level: dist=3\n",
      "\tcurr_mode=3 cur_pos=(4, 2)\n",
      "\tcurr_mode=1 cur_pos=(3, 1)\n",
      "\tcurr_mode=1 cur_pos=(2, 2)\n",
      "\tcurr_mode=2 cur_pos=(1, 5)\n",
      "\tcurr_mode=2 cur_pos=(1, 3)\n",
      "\n",
      "New Level: dist=4\n",
      "\tcurr_mode=3 cur_pos=(4, 1)\n",
      "\tcurr_mode=1 cur_pos=(2, 1)\n",
      "\tcurr_mode=1 cur_pos=(1, 2)\n",
      "\tEUREKA: position (0, 2) curr_mode=1 reached destination\n",
      "\tcurr_mode=2 cur_pos=(0, 3)\n",
      "\tEUREKA: position (0, 2) curr_mode=2 reached destination\n",
      "\n",
      "New Level: dist=5\n",
      "\tcurr_mode=3 cur_pos=(4, 0)\n",
      "\tcurr_mode=1 cur_pos=(1, 1)\n",
      "\n",
      "New Level: dist=6\n",
      "\tcurr_mode=3 cur_pos=(3, 0)\n",
      "\n",
      "New Level: dist=7\n",
      "\tcurr_mode=3 cur_pos=(2, 0)\n",
      "\n",
      "New Level: dist=8\n",
      "\tcurr_mode=3 cur_pos=(1, 0)\n",
      "\n",
      "New Level: dist=9\n",
      "\tcurr_mode=3 cur_pos=(0, 0)\n",
      "\n",
      "New Level: dist=10\n",
      "\tcurr_mode=3 cur_pos=(0, 1)\n",
      "\tEUREKA: position (0, 2) curr_mode=3 reached destination\n",
      "dist=11\n"
     ]
    }
   ],
   "source": [
    "from collections import deque, defaultdict\n",
    "\n",
    "# --------------------------------------------\n",
    "# Input variables\n",
    "# --------------------------------------------\n",
    "grid = [\n",
    "    [\"3\", \"3\", \"S\", \"2\", \"X\", \"X\"],\n",
    "    [\"3\", \"1\", \"1\", \"2\", \"X\", \"2\"],\n",
    "    [\"3\", \"1\", \"1\", \"2\", \"2\", \"2\"],\n",
    "    [\"3\", \"1\", \"1\", \"1\", \"D\", \"3\"],\n",
    "    [\"3\", \"3\", \"3\", \"3\", \"3\", \"4\"],\n",
    "    [\"4\", \"4\", \"4\", \"4\", \"4\", \"4\"]\n",
    "]\n",
    "cost_matrix = [0, 1, 3, 2]\n",
    "time_matrix = [3, 2, 1, 1]\n",
    "\n",
    "num_modes = len(cost_matrix)\n",
    "m, n = len(grid), len(grid[0])\n",
    "directions = [(0,1), (1,0), (0,-1), (-1,0)]\n",
    "\n",
    "# -----------------------------------------\n",
    "# Find End and Start Position\n",
    "# -----------------------------------------\n",
    "start_pos = None\n",
    "dest_pos = None\n",
    "for r in range(m):\n",
    "    for c in range(n):\n",
    "        if grid[r][c]==\"D\":\n",
    "            dest_pos = (r,c)\n",
    "        if grid[r][c]==\"S\":\n",
    "            start_pos = (r,c)\n",
    "print(f'dest_pos={dest_pos}')\n",
    "\n",
    "# -----------------------------------------\n",
    "# INITIALIZE QUEUE: \n",
    "# -----------------------------------------\n",
    "queue = deque([ (None, dest_pos) ])\n",
    "print(f'\\nqueue={queue}')\n",
    "\n",
    "# -----------------------------------------\n",
    "# BFS\n",
    "# -----------------------------------------\n",
    "mode_to_dist = [0] * num_modes\n",
    "visited = set()\n",
    "dist = 0\n",
    "while queue:\n",
    "    print(f'\\nNew Level: dist={dist}')\n",
    "    \n",
    "    # Flush the current queue\n",
    "    for _ in range(len(queue)): # This is the beauty of the BFS; flush the current queue\n",
    "        curr_mode, curr_pos = queue.popleft()\n",
    "        print(f'\\tcurr_mode={curr_mode} cur_pos={curr_pos}')\n",
    "        \n",
    "        for dx, dy in directions:\n",
    "            x = curr_pos[0] + dx\n",
    "            y = curr_pos[1] + dy\n",
    "            \n",
    "            if start_pos == (x, y):\n",
    "                print(f'\\tEUREKA: position ({x}, {y}) curr_mode={curr_mode} reached destination')\n",
    "                mode_to_dist[int(curr_mode)] = dist\n",
    "\n",
    "            if (0 <= x < m) and (0 <= y < n) and grid[x][y] != \"X\":    \n",
    "                if (x, y) in visited:\n",
    "                    continue\n",
    "                if (grid[x][y] == curr_mode) or (curr_mode == None):\n",
    "                    next_mode = grid[x][y]\n",
    "                    queue.append( (next_mode, (x, y)) )\n",
    "                    visited.add( (x,y) )\n",
    "                             \n",
    "    dist += 1\n",
    "\n",
    "print(f'dist={dist}')\n",
    "\n",
    "\n"
   ]
  },
  {
   "cell_type": "code",
   "execution_count": 96,
   "id": "b338fba0-6af0-4ff6-95af-a76aafaf9847",
   "metadata": {},
   "outputs": [
    {
     "data": {
      "text/plain": [
       "[0, 4, 4, 10]"
      ]
     },
     "execution_count": 96,
     "metadata": {},
     "output_type": "execute_result"
    }
   ],
   "source": [
    "mode_to_dist"
   ]
  },
  {
   "cell_type": "code",
   "execution_count": 97,
   "id": "751ce8c4-63fe-40eb-bf2a-af83cf468fbd",
   "metadata": {},
   "outputs": [
    {
     "data": {
      "text/plain": [
       "[(8, 1, 1), (4, 3, 2), (10, 2, 3)]"
      ]
     },
     "execution_count": 97,
     "metadata": {},
     "output_type": "execute_result"
    }
   ],
   "source": [
    "cost = [(time*distance, cost_matrix[i], i) for i, (time, distance) in enumerate(zip(time_matrix, mode_to_dist)) if distance != 0]\n",
    "cost"
   ]
  },
  {
   "cell_type": "code",
   "execution_count": 98,
   "id": "abff4165-3e7b-4236-b890-4dea190bc233",
   "metadata": {},
   "outputs": [
    {
     "data": {
      "text/plain": [
       "[(4, 3, 2), (8, 1, 1), (10, 2, 3)]"
      ]
     },
     "execution_count": 98,
     "metadata": {},
     "output_type": "execute_result"
    }
   ],
   "source": [
    "cost.sort(key = lambda t: t[0])\n",
    "cost"
   ]
  },
  {
   "cell_type": "code",
   "execution_count": 99,
   "id": "4e87282b-2849-447f-9ad2-7a8a3f0722ab",
   "metadata": {},
   "outputs": [
    {
     "data": {
      "text/plain": [
       "2"
      ]
     },
     "execution_count": 99,
     "metadata": {},
     "output_type": "execute_result"
    }
   ],
   "source": [
    "# Most efficient transportation is mode 2\n",
    "cost[0][2]"
   ]
  },
  {
   "cell_type": "markdown",
   "id": "1ba44359-239c-4140-aac7-349dc8216f0b",
   "metadata": {},
   "source": [
    "### Matrix Infection"
   ]
  },
  {
   "cell_type": "markdown",
   "id": "361336b4-c179-47b9-8219-0d525c76e8b0",
   "metadata": {},
   "source": [
    "### Shortest Transformation Sequences\n",
    "- Given 2 words start and end, and a dictionionary containing an array of words, return the LENGTHof the shortest transformation to transform start to end. A transformation sequence is a series of words in which\n",
    "    * each word differs from the preceding word by exactly one letter\n",
    "    * each word int he sequence exists in the dictionary\n",
    "- If no such sequence exists, return 0\n",
    "- Example\n",
    "    * start=red, end=hit, dictionary=[\"red\", \"bed\", \"hat\", \"rod\", \"rad\", \"rat\", \"hit\", \"bad\", \"bat\"] \n",
    "    * red -> rad -> rat -> hat -> hit\n",
    "    * output = 5"
   ]
  },
  {
   "cell_type": "code",
   "execution_count": null,
   "id": "4641cab5-cbf3-41af-b201-8cd586fc7262",
   "metadata": {},
   "outputs": [],
   "source": []
  },
  {
   "cell_type": "code",
   "execution_count": null,
   "id": "2831c32c-2b4f-4883-9b55-df53b994cf19",
   "metadata": {},
   "outputs": [],
   "source": []
  },
  {
   "cell_type": "code",
   "execution_count": null,
   "id": "2453ffbf-c0d5-499e-81ea-05d97a6709a8",
   "metadata": {},
   "outputs": [],
   "source": []
  },
  {
   "cell_type": "markdown",
   "id": "9c1b68cc-484e-4a8f-a871-e28cabb0f0df",
   "metadata": {},
   "source": [
    "### Shortest Transformation Sequences\n",
    "- Given 2 words start and end, and a dictionionary containing an array of words, return the LENGTHof the shortest transformation to transform start to end. A transformation sequence is a series of words in which\n",
    "    * each word differs from the preceding word by exactly one letter\n",
    "    * each word int he sequence exists in the dictionary\n",
    "- If no such sequence exists, return 0\n",
    "- Example\n",
    "    * start=red, end=hit, dictionary=[\"red\", \"bed\", \"hat\", \"rod\", \"rad\", \"rat\", \"hit\", \"bad\", \"bat\"] \n",
    "    * red -> rad -> rat -> hat -> hit\n",
    "    * output = 5"
   ]
  },
  {
   "cell_type": "markdown",
   "id": "c4b61eb1-0d4e-487e-9e54-4a3d7cbeafca",
   "metadata": {},
   "source": [
    "#### V1: Less efficient"
   ]
  },
  {
   "cell_type": "code",
   "execution_count": 26,
   "id": "134c55ea-fe12-4769-9d4a-3a7901a185d5",
   "metadata": {},
   "outputs": [],
   "source": [
    "from collections import deque\n",
    "\n",
    "# let n = num words, L = lenght of character\n",
    "# Runtime:  O(n)  = n L^2\n",
    "# Space: hashset and queue ~= n * L     \n",
    "def shortest_transformation_sequence(start: str, end: str, dictionary: List[str]) -> int:\n",
    "    if not dict:\n",
    "        return 0\n",
    "\n",
    "    alphabets = \"abcdefgihijklmnopqurstuvwxyz\"\n",
    "    queue = deque([start])\n",
    "    visited = set([start])\n",
    "    dictionary_set = set(dictionary)  # RT: O( n * L )\n",
    "    \n",
    "    dist = 0\n",
    "\n",
    "    # TOTAL: RT O(n) = N * (L * 26) * L ~= n L^2\n",
    "    while queue:  \n",
    "\n",
    "        # why for loop? We want to finish the current level before we increment dist variable below\n",
    "        for _ in range(len(queue)): # RT: N\n",
    "            curr_word = queue.pop_left()\n",
    "\n",
    "            if curr_word == end:\n",
    "                return dist + 1\n",
    "            \n",
    "            # Look for candidates: RT: \n",
    "            for i in len(curr_word): # RT: L\n",
    "                for c in alphabets:  # 26\n",
    "                    \n",
    "                    next_word = curr_word[:i] + c + curr_word[i+1:]  \n",
    "                    if next_word not in visited and next_word in dictionary_set: # RT: L\n",
    "                        visited.append(next_word)\n",
    "                        queue.append(next_word)\n",
    "                \n",
    "        dist += 1\n",
    "    \n",
    "    return 0"
   ]
  },
  {
   "cell_type": "markdown",
   "id": "16126186-369f-451f-903d-f4cedc2fb1bd",
   "metadata": {},
   "source": [
    "#### V2; With Trie Nodes\n",
    "- Assuming k is the average lenght of words in dictionary, and n is number of words in dictionary\n",
    "- RunTime: \n",
    "    * Build Trie: O(n * k)\n",
    "    * Explore neighbors for each oord: O(m * k) where m is the number of valid neighbors\n",
    "    * Total: buildTree + BFS( exploreNeighbors) = O(n*k) + O(n * (m*k) ) ~= O(n * m * k)\n",
    "    * This is more efficient than V1 version if m < 26"
   ]
  },
  {
   "cell_type": "code",
   "execution_count": 34,
   "id": "4aba35df-f769-4f64-bbf8-c4bae82c9710",
   "metadata": {},
   "outputs": [],
   "source": [
    "class TrieNode:\n",
    "    def __init__(self):\n",
    "        self.children = {}\n",
    "        self.word = None  # If not none, this node is the end of a word\n",
    "\n",
    "start = \"rat\"\n",
    "dictionary=[\"red\", \"bed\", \"hat\", \"rod\"]\n",
    "root = TrieNode()\n",
    "\n",
    "def build_trie(dictionary):\n",
    "    root = TriNode()\n",
    "    \n",
    "    for w in dictionary:\n",
    "        curr_node = root\n",
    "        for c in w:\n",
    "            if c not in curr_node.children:\n",
    "                curr_node.children[c] = TriNode()\n",
    "            curr_node = curr_node.children[c]\n",
    "        curr_node.word = w\n",
    "    return root\n",
    "\n",
    "def shortest_transformation_length(start, end, dictionary):\n",
    "    if end not in dictionary:\n",
    "        return -1\n",
    "\n",
    "    trie_root = build_trie(dictionary)\n",
    "\n",
    "    queue = deque([ (start, 1) ] ) # (curr_word, transformation_length)\n",
    "\n",
    "    while queue: # O(n)\n",
    "        curr_word, length = queue.popleft()\n",
    "\n",
    "        if curr_word == end:\n",
    "            return length\n",
    "\n",
    "        visited.add(curr_word)\n",
    "\n",
    "        for n in get_valid_neighbors(curr_word, trie_root):\n",
    "            if n not in visited:\n",
    "                queue.append((neighbors, lenght + 1))\n",
    "\n",
    "    return -1\n",
    "\n",
    "# Fn return a list of words in dictionary that that are 1 character aprt from word\n",
    "# RT: O(m*k), where m is \n",
    "def get_valid_neigbors(word, trie_root):\n",
    "    neighbors = []\n",
    "    curr_node = trie_root\n",
    "\n",
    "    def dfs(node, current_word, depth):\n",
    "        if depth == len(word):\n",
    "            if node.word and node.word != word:\n",
    "                neighbors.append(node.word)\n",
    "            \n",
    "            return\n",
    "\n",
    "        char = word[depth]\n",
    "        # ONLY look for char that are in the trie\n",
    "        for next_char, child_node in node.children.items():\n",
    "            if next_char == char or len(current_word) < depth:  # Explore neighbors\n",
    "                dfs(child_node, current_word + next_char, depth + 1)\n",
    "            \n",
    "    dfs(curr_node, \"\", 0)\n",
    "    return neighbors\n",
    "            "
   ]
  },
  {
   "cell_type": "code",
   "execution_count": null,
   "id": "54155ec2-3ee6-48c0-95e0-2fc33a242478",
   "metadata": {},
   "outputs": [],
   "source": []
  },
  {
   "cell_type": "code",
   "execution_count": null,
   "id": "9f264a54-dc53-4ebf-a940-ec437eeefaba",
   "metadata": {},
   "outputs": [],
   "source": []
  },
  {
   "cell_type": "markdown",
   "id": "ff2b02b9-f872-4805-a1ce-7b22ace830e1",
   "metadata": {},
   "source": [
    "# 4 Topological Sort\n",
    "- Indegree of nodeA measures how many edges coming into nodeA. Ex: node1 has a in degree of 2.\n",
    "    * indegree of 0 means there all prereqs have been resolved\n",
    "    * at each iteration, a queue contains only nodes with indegree of 0. This intuitively means nodes which has satisified all prereqs."
   ]
  },
  {
   "cell_type": "markdown",
   "id": "08e1bfd2-6dec-4931-80db-a89ef5ea115c",
   "metadata": {},
   "source": [
    "### Prerquisites\n",
    "- Given an integer representing the number of courses labered from 0 to n-1 and an array of prereqs pairs, determine if it is possible to enroll in all courses\n",
    "- Each prereq is a pair [a,b] indicating that course a must be taken before course b\n",
    "- Example:\n",
    "    * Input: n=3, prereqs = [[0,1], [1,2], [2,1] ]\n",
    "    * Output: False bc course 1 cannot be taken without completing course 2, and vice versa"
   ]
  },
  {
   "cell_type": "code",
   "execution_count": 36,
   "id": "96b4d670-6bab-4579-b3bd-014e503ee422",
   "metadata": {},
   "outputs": [],
   "source": [
    "from typing import List\n",
    "from collections import defaultdict\n",
    "\n",
    "def prequisites(n: int, prereqs: List[ List[int]] ) -> bool:\n",
    "    graph = defaultdict(list) # graph[prereqA] = [ coursees that requires prereqA ]\n",
    "    in_degress = [0] * n # index is the course #; value is the number of prereq it has\n",
    "    \n",
    "    for pre, course in prereqs:\n",
    "        graph[pre].append(course)\n",
    "        in_degress[course] += 1\n",
    "\n",
    "    queue = deque()\n",
    "    for i in range(n):\n",
    "        if in_degress[i] == 0:\n",
    "            queue.append(i)\n",
    "\n",
    "    enrolled_classes = 0\n",
    "\n",
    "    # queue contains course which has no prereqs, ie prereqs are satisifed\n",
    "    while queue:\n",
    "        node = queue.popleft()\n",
    "        enrolled_classes += 1\n",
    "\n",
    "        # c is the class which had depended on prereq node\n",
    "        for c in graph[node]:\n",
    "            in_degrees[c] -=1\n",
    "\n",
    "            if in_degrees[c] == 0:\n",
    "                queue.append(c)\n",
    "\n",
    "    return enrolled_classes == n"
   ]
  },
  {
   "cell_type": "code",
   "execution_count": null,
   "id": "e065a5c0-1109-414b-9c2d-0c59f18fa266",
   "metadata": {},
   "outputs": [],
   "source": []
  },
  {
   "cell_type": "code",
   "execution_count": null,
   "id": "8a8a5927-d925-4d71-a15d-0041ddad3b75",
   "metadata": {},
   "outputs": [],
   "source": []
  },
  {
   "cell_type": "markdown",
   "id": "dab080c4-0fbd-4d93-8bd2-a11eaaf39ba5",
   "metadata": {},
   "source": [
    "# 5 Union Find"
   ]
  },
  {
   "cell_type": "markdown",
   "id": "343dd255-d693-46ae-9966-b032bf5b3ff0",
   "metadata": {},
   "source": [
    "### Merging Communities"
   ]
  },
  {
   "cell_type": "code",
   "execution_count": null,
   "id": "60e3080a-f1f9-43d5-ae65-3ddf4179459e",
   "metadata": {},
   "outputs": [],
   "source": []
  },
  {
   "cell_type": "markdown",
   "id": "566db0ae-2bbd-4dcf-9fdb-b1d146343917",
   "metadata": {},
   "source": [
    "### Connect the Dots [BONUS]"
   ]
  },
  {
   "cell_type": "code",
   "execution_count": null,
   "id": "bbb65675-d373-4cf3-977e-72a2f9452d76",
   "metadata": {},
   "outputs": [],
   "source": []
  },
  {
   "cell_type": "markdown",
   "id": "9e220539-2e6f-464a-a8ce-497f74ca04fb",
   "metadata": {},
   "source": [
    "# 6 Dijkstra Algorithm [BONUS]"
   ]
  },
  {
   "cell_type": "code",
   "execution_count": null,
   "id": "fce83352-4a61-429c-9e57-6096788f6ff9",
   "metadata": {},
   "outputs": [],
   "source": []
  }
 ],
 "metadata": {
  "kernelspec": {
   "display_name": "Python 3 (ipykernel)",
   "language": "python",
   "name": "python3"
  },
  "language_info": {
   "codemirror_mode": {
    "name": "ipython",
    "version": 3
   },
   "file_extension": ".py",
   "mimetype": "text/x-python",
   "name": "python",
   "nbconvert_exporter": "python",
   "pygments_lexer": "ipython3",
   "version": "3.11.9"
  }
 },
 "nbformat": 4,
 "nbformat_minor": 5
}
