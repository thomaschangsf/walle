{
 "cells": [
  {
   "cell_type": "markdown",
   "id": "7b04b628-1475-4364-9f48-79600511d02c",
   "metadata": {},
   "source": [
    "### Introduction"
   ]
  },
  {
   "cell_type": "code",
   "execution_count": null,
   "id": "762de78e-2cec-4802-aae1-f931f9a654e5",
   "metadata": {},
   "outputs": [],
   "source": []
  },
  {
   "cell_type": "markdown",
   "id": "4a7f5d02-dd6a-4344-acb3-0e81f98a4827",
   "metadata": {},
   "source": [
    "### Jump To The End"
   ]
  },
  {
   "cell_type": "code",
   "execution_count": null,
   "id": "65668e39-36da-4b67-b616-49e0d15fb77d",
   "metadata": {},
   "outputs": [],
   "source": []
  },
  {
   "cell_type": "markdown",
   "id": "37f1750e-c2a5-457b-8d29-c7017fdc3b1a",
   "metadata": {},
   "source": [
    "### Gas Stations"
   ]
  },
  {
   "cell_type": "code",
   "execution_count": null,
   "id": "74e1b764-c548-45a9-b5eb-2d39431f9bb3",
   "metadata": {},
   "outputs": [],
   "source": []
  },
  {
   "cell_type": "markdown",
   "id": "eb31af8c-ee93-4d49-9db3-c8a5297b38a3",
   "metadata": {},
   "source": [
    "### Candies"
   ]
  },
  {
   "cell_type": "code",
   "execution_count": null,
   "id": "c55f0d1e-b26b-484a-8106-2982d82c3850",
   "metadata": {},
   "outputs": [],
   "source": []
  }
 ],
 "metadata": {
  "kernelspec": {
   "display_name": "Python 3 (ipykernel)",
   "language": "python",
   "name": "python3"
  },
  "language_info": {
   "codemirror_mode": {
    "name": "ipython",
    "version": 3
   },
   "file_extension": ".py",
   "mimetype": "text/x-python",
   "name": "python",
   "nbconvert_exporter": "python",
   "pygments_lexer": "ipython3",
   "version": "3.11.9"
  }
 },
 "nbformat": 4,
 "nbformat_minor": 5
}
