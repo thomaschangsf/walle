{
 "cells": [
  {
   "cell_type": "markdown",
   "id": "6c795883-9453-4285-b5ce-de46e8096a97",
   "metadata": {},
   "source": [
    "# Background\n",
    "- pg 159\n",
    "- Intervals problems usually have arrays that are sorted\n",
    "- given an array like [a, b]\n",
    "    * Intersection when a.end >= b.start\n",
    "    * merged_interval = (a.start, max(a.end, b.end) )\n",
    "- Edge case\n",
    "    * are the points included in the interval, ie closed, open?"
   ]
  },
  {
   "cell_type": "markdown",
   "id": "ec48fefb-79c9-49c5-be8d-aecc121366c4",
   "metadata": {},
   "source": [
    "### Merge Overlapping Intervals\n",
    "- Merge an array of intervals so there are no overlapping intervals, and return the resultant merged intervals\n",
    "- Ex:\n",
    "    * Input: [ [3,4], [7,8], [2,5], [6,7], [1,4] ]\n",
    "    * Output: [ [1,5], [6,8] ]"
   ]
  },
  {
   "cell_type": "code",
   "execution_count": 2,
   "id": "2d418088-7ebd-40ff-bfa2-9cd45fcaa51a",
   "metadata": {},
   "outputs": [],
   "source": [
    "def merge_intervals(intervals):\n",
    "    if len(intervals) == 0:\n",
    "        return []\n",
    "    \n",
    "    intervals.sort(key= lambda t: t[0])\n",
    "        \n",
    "    merged = intervals[0]\n",
    "    \n",
    "    for b in intervals[1:]:\n",
    "        a = merged[-1]\n",
    "\n",
    "        if a.end >= b[0]:\n",
    "            merged[-1] = [ a[0], max(a[1], b[1]) ]\n",
    "        else:\n",
    "            merged.append(b)\n",
    "\n",
    "    return merged"
   ]
  },
  {
   "cell_type": "code",
   "execution_count": 4,
   "id": "9b68903a-1464-4960-b2b6-ade2727cb25c",
   "metadata": {},
   "outputs": [
    {
     "data": {
      "text/plain": [
       "[[1, 4], [2, 5], [3, 4], [6, 7], [7, 8]]"
      ]
     },
     "execution_count": 4,
     "metadata": {},
     "output_type": "execute_result"
    }
   ],
   "source": [
    "lst = [ [3,4], [7,8], [2,5], [6,7], [1,4] ]\n",
    "lst.sort(key=lambda t: t[0])\n",
    "lst"
   ]
  },
  {
   "cell_type": "markdown",
   "id": "5e87eec3-f0b9-4a23-b194-08ae6a02227f",
   "metadata": {},
   "source": [
    "### Identify All Interval Overlaps\n",
    "- Return an array of all overlaps between 2 arrays of intervals: intervals1 and intervals2.  Each interval array is **sorted** by the start value, and contains **NO** overlapping interval within itself.\n",
    "- EX:\n",
    "    * input: intervals1 = [ [1,4], [5,6], [9,10] ]  intervals2=[ [2,7], [8,9] ]\n",
    "    * output: [ [2,4], [5,6], [9,9] ]"
   ]
  },
  {
   "cell_type": "code",
   "execution_count": null,
   "id": "0db9b53f-e65c-4c18-b8c9-46bce3ec3f85",
   "metadata": {},
   "outputs": [],
   "source": []
  },
  {
   "cell_type": "markdown",
   "id": "14f4d95f-c49a-4a24-96c9-1b03cb9c0f53",
   "metadata": {},
   "source": [
    "### Largest Overlap of Intervals\n",
    "- Given an array of intervals, determine the max number of intervals that overalp at any point. Each interval is half open, meaning it includes the start point but excludes the end point\n",
    "- EX\n",
    "    * input: intervals = [ [1,3], [2,6], [4,8], [6,7], [5,7] ]\n",
    "    * output: 3"
   ]
  },
  {
   "cell_type": "code",
   "execution_count": null,
   "id": "ae26fbf1-2c50-4f31-be5e-891e871f80f0",
   "metadata": {},
   "outputs": [],
   "source": []
  },
  {
   "cell_type": "code",
   "execution_count": null,
   "id": "6c058800-8455-4199-b460-7c5d36b0b054",
   "metadata": {},
   "outputs": [],
   "source": []
  },
  {
   "cell_type": "code",
   "execution_count": null,
   "id": "a0b69324-1e59-4d50-9a7d-442ace4ef8dd",
   "metadata": {},
   "outputs": [],
   "source": []
  },
  {
   "cell_type": "code",
   "execution_count": null,
   "id": "7f563d1e-a5b1-4e40-8b4b-8e75181e3d5b",
   "metadata": {},
   "outputs": [],
   "source": []
  },
  {
   "cell_type": "code",
   "execution_count": null,
   "id": "2e141730-f9d3-41ff-aa94-3d46d668f2f1",
   "metadata": {},
   "outputs": [],
   "source": []
  }
 ],
 "metadata": {
  "kernelspec": {
   "display_name": "Python 3 (ipykernel)",
   "language": "python",
   "name": "python3"
  },
  "language_info": {
   "codemirror_mode": {
    "name": "ipython",
    "version": 3
   },
   "file_extension": ".py",
   "mimetype": "text/x-python",
   "name": "python",
   "nbconvert_exporter": "python",
   "pygments_lexer": "ipython3",
   "version": "3.11.9"
  }
 },
 "nbformat": 4,
 "nbformat_minor": 5
}
