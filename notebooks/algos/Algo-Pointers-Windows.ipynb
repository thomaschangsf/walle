{
 "cells": [
  {
   "cell_type": "markdown",
   "id": "baf22a7c-d565-44e4-a31d-cf7613790ddd",
   "metadata": {},
   "source": [
    "# 1 Two Pointers"
   ]
  },
  {
   "cell_type": "markdown",
   "id": "5365871c-00a3-45b5-bbd3-5e595d5fc08c",
   "metadata": {},
   "source": [
    "### Introduction\n",
    "- When to use:\n",
    "    * There is predictable dynamics; Ex:\n",
    "    * Sorted arrays\n",
    "    * Problem asks for a pair of values\n",
    "- Traversal strategy\n",
    "    * inward: i, j starts at 0 and n-1 and move inwards\n",
    "    * unidirectional: usually both moving right\n",
    "    * staged: raverse with one pter and when it lands on an element that meets a conditionm we traverse the second pointer"
   ]
  },
  {
   "cell_type": "code",
   "execution_count": null,
   "id": "e648d945-e49a-4fd3-8b03-e7b8605a0de2",
   "metadata": {},
   "outputs": [],
   "source": []
  },
  {
   "cell_type": "markdown",
   "id": "329684e4-0d5a-4f4b-a3c2-d382d3986e83",
   "metadata": {},
   "source": [
    "### Pair Sum - Sorted\n",
    "- Given an array of **sorted in  ascending** order and a traget value, return the indexes of **pair** of numbeters that sum to the target. If multiple solutions return an array of tuples; if no solutios return []\n",
    "- Ex: nums = [-5,-2,3, 4, 6], target=7\n",
    "    * Solution = [2,3]"
   ]
  },
  {
   "cell_type": "code",
   "execution_count": 1,
   "id": "eba00bf6-84f1-475a-b01e-4e1aab8a364b",
   "metadata": {},
   "outputs": [],
   "source": [
    "# BRUTE FORCE\n",
    "def pair_sum_bruteforce(nums, target):\n",
    "    sol = []\n",
    "    n= len(nums)\n",
    "    for i in range(n):\n",
    "        for j in range(i+1, n):\n",
    "            if nums[i] + nums[j]:\n",
    "                sol.append([i, j])\n"
   ]
  },
  {
   "cell_type": "code",
   "execution_count": 3,
   "id": "c12c2ac5-7381-49af-a2bd-0f139cbc23b9",
   "metadata": {},
   "outputs": [],
   "source": [
    "def pair_sum(nums, target):\n",
    "    sol = []\n",
    "    i,j = 0, n-1\n",
    "\n",
    "    while i < j:\n",
    "        curr_sum = nums[i] + nums[j]\n",
    "        if curr_sum == target:\n",
    "            sol.append([i, j])\n",
    "        elif curr_sum < target:\n",
    "            i += 1\n",
    "        else:\n",
    "            j -= 1\n",
    "\n",
    "    return sol\n",
    "    \n"
   ]
  },
  {
   "cell_type": "markdown",
   "id": "48b3e255-10b2-4952-aff8-c8f515fd8467",
   "metadata": {},
   "source": [
    "### Triplet Sum"
   ]
  },
  {
   "cell_type": "code",
   "execution_count": null,
   "id": "e4be177e-c40f-4bc7-8267-7e23c7e2ad4f",
   "metadata": {},
   "outputs": [],
   "source": []
  },
  {
   "cell_type": "markdown",
   "id": "0f7de230-4cd9-4a49-95b4-94d8ee1e0005",
   "metadata": {},
   "source": [
    "### Is Palindrome Valid"
   ]
  },
  {
   "cell_type": "code",
   "execution_count": null,
   "id": "872540e4-bad1-42e3-8ba9-cd02ab12bb33",
   "metadata": {},
   "outputs": [],
   "source": []
  },
  {
   "cell_type": "markdown",
   "id": "e144e256-4be0-48c4-8ce2-1d8ead49eb33",
   "metadata": {},
   "source": [
    "### Largest Container"
   ]
  },
  {
   "cell_type": "code",
   "execution_count": null,
   "id": "a093e2b4-f9fa-44ef-becc-878def14dfd8",
   "metadata": {},
   "outputs": [],
   "source": []
  },
  {
   "cell_type": "markdown",
   "id": "8ddfa3ca-3ed2-47c8-8efe-5309bf853397",
   "metadata": {},
   "source": [
    "# 2 Fast Slow Pointers \n",
    "- pg 71"
   ]
  },
  {
   "cell_type": "markdown",
   "id": "3bc163eb-014b-4acf-8fe7-4c6463081263",
   "metadata": {},
   "source": [
    "### Introduction\n",
    "- Two pointers go at different speed\n",
    "    * slow = slow.ntext\n",
    "    * fast = fast.next.next\n",
    "- Traversal of the 2 pointers is in one direction\n",
    "- Good to detect a linked list with cycles (circular path)"
   ]
  },
  {
   "cell_type": "code",
   "execution_count": null,
   "id": "99b8a765-938b-477d-81bd-27e8bca6e48d",
   "metadata": {},
   "outputs": [],
   "source": []
  },
  {
   "cell_type": "markdown",
   "id": "53ab46d4-9956-4fd1-bf8e-6696b6d006e0",
   "metadata": {},
   "source": [
    "### Linked List Loop"
   ]
  },
  {
   "cell_type": "code",
   "execution_count": 4,
   "id": "9730d970-8161-4930-afd9-3a4bcc1b4692",
   "metadata": {},
   "outputs": [],
   "source": [
    "class ListNode:\n",
    "    def __init__(self, val, next):\n",
    "        self.val = val\n",
    "        self.next = next\n",
    "\n",
    "def linked_list_loop(head: ListNode):\n",
    "    slow = fast = head\n",
    "\n",
    "    # Check for null pointer exception\n",
    "    while fast and fast.next:\n",
    "        slow = slow.next\n",
    "        fast = fast.next.next\n",
    "\n",
    "        if slow == fast:\n",
    "            return True\n",
    "\n",
    "    return False"
   ]
  },
  {
   "cell_type": "markdown",
   "id": "721fe665-9494-467d-88fb-f5119d36180a",
   "metadata": {},
   "source": [
    "### Linked List Midpoint\n",
    "- When the fast loop exits, slow pointer will be at the mid point of the linked list"
   ]
  },
  {
   "cell_type": "code",
   "execution_count": 5,
   "id": "833451f8-d4ee-448d-b7a2-cf983517b440",
   "metadata": {},
   "outputs": [],
   "source": [
    "def mid_point(head):\n",
    "    slow = fast = head\n",
    "\n",
    "    while fast and fast.next:\n",
    "        slow = slow.next\n",
    "        fast = fast.next.next\n",
    "\n",
    "    return slow"
   ]
  },
  {
   "cell_type": "markdown",
   "id": "ca394af4-0e36-4ef0-8b8b-51fe00c7ab0d",
   "metadata": {},
   "source": [
    "### Happy Number"
   ]
  },
  {
   "cell_type": "code",
   "execution_count": null,
   "id": "75ac6cf7-158c-4269-8606-02eaeec614f3",
   "metadata": {},
   "outputs": [],
   "source": []
  },
  {
   "cell_type": "markdown",
   "id": "11dbc753-7fcd-46ba-b9ec-281dbcb9b0c0",
   "metadata": {},
   "source": [
    "# 3 Sliding Windows\n",
    "- pg 83"
   ]
  },
  {
   "cell_type": "markdown",
   "id": "fc51f6eb-a300-4bf7-bc08-50b2c26de535",
   "metadata": {},
   "source": [
    "### Introduction\n",
    "- Defines the bounds of a window in an iterable DS\n",
    "- Good for nested loop problem, reducing runtime from $O(n^2)$ to O(n)\n",
    "- Types of windows based on the width of the window\n",
    "    * Fixed sliding window\n",
    "    * Dynamic sliding window"
   ]
  },
  {
   "cell_type": "code",
   "execution_count": 7,
   "id": "8bcb7635-cf12-4be6-b72d-6f0075f30375",
   "metadata": {},
   "outputs": [],
   "source": [
    "def fixed_sliding_window(window_size, nums):\n",
    "    left = right = 0\n",
    "    n = len(nums)\n",
    "    \n",
    "    while right < n:\n",
    "        if right - left + 1 == window_size:\n",
    "            left += 1\n",
    "    \n",
    "        # business logic\n",
    "    \n",
    "        left += 1"
   ]
  },
  {
   "cell_type": "code",
   "execution_count": null,
   "id": "35fa76f2-30e8-455d-9b8f-bbc152289899",
   "metadata": {},
   "outputs": [],
   "source": [
    "def dynamic_sliding_window(nums):\n",
    "    left = right = 0\n",
    "\n",
    "    while right < n:\n",
    "        # when condition is violated\n",
    "        if b_violated == True:\n",
    "            left += 1\n",
    "\n",
    "        # business logic\n",
    "\n",
    "        right += 1\n",
    "    "
   ]
  },
  {
   "cell_type": "markdown",
   "id": "3af9f2ae-2902-4d54-8819-24e261808d80",
   "metadata": {},
   "source": [
    "### Substring Anagrams\n",
    "- Given 2 lower case strings, s and t, return the number of substrings in s that are anagrams of t\n",
    "- Anagram is formed by rearranging the letters of another word, using all of the original letters once\n",
    "- Ex: s=\"caabab\" t=\"aba\"\n",
    "    * Output: 2"
   ]
  },
  {
   "cell_type": "code",
   "execution_count": 12,
   "id": "bcd0240b-921c-47fb-b9a0-4cce2f03272b",
   "metadata": {},
   "outputs": [],
   "source": [
    "# t is the shorter word\n",
    "def get_num_anagrams(s, t):\n",
    "    cnt = 0\n",
    "    len_s, len_t = len(s), len(t)\n",
    "\n",
    "    if len_t > len_s:\n",
    "        return cnt\n",
    "\n",
    "    # array of length 26\n",
    "    freq_exp, freq_window = [0] * 26, [0] * 26\n",
    "    for c in t:\n",
    "        freq_exp[ord(c) - ord('a')] += 1\n",
    "    \n",
    "    left, right = 0, 0\n",
    "\n",
    "    while right < len_s:\n",
    "        freq_window[ord(s[right]) - ord('a')] += 1\n",
    "\n",
    "        if right - left +1 == len_t:\n",
    "            if freq_exp == freq_window:\n",
    "                cnt += 1\n",
    "\n",
    "            freq_window[ord(s[right]) - ord('a')] -= 1\n",
    "            left += 1\n",
    "\n",
    "        right == 1\n",
    "\n",
    "    return cnt"
   ]
  },
  {
   "cell_type": "markdown",
   "id": "c12afb79-ab5d-4995-a658-e53d5f51b4bf",
   "metadata": {},
   "source": [
    "### Longest Substring With Unique Characters"
   ]
  },
  {
   "cell_type": "code",
   "execution_count": null,
   "id": "66995b0e-e1f3-4191-8060-68b7eba340bf",
   "metadata": {},
   "outputs": [],
   "source": []
  },
  {
   "cell_type": "markdown",
   "id": "ec678163-2d24-4b58-82c7-7cfdd117d017",
   "metadata": {},
   "source": [
    "### Longest Uniform Substring After Replacements"
   ]
  },
  {
   "cell_type": "code",
   "execution_count": null,
   "id": "ac5f3007-1ee1-4609-8073-74ffca0689f8",
   "metadata": {},
   "outputs": [],
   "source": []
  }
 ],
 "metadata": {
  "kernelspec": {
   "display_name": "Python 3 (ipykernel)",
   "language": "python",
   "name": "python3"
  },
  "language_info": {
   "codemirror_mode": {
    "name": "ipython",
    "version": 3
   },
   "file_extension": ".py",
   "mimetype": "text/x-python",
   "name": "python",
   "nbconvert_exporter": "python",
   "pygments_lexer": "ipython3",
   "version": "3.11.9"
  }
 },
 "nbformat": 4,
 "nbformat_minor": 5
}
