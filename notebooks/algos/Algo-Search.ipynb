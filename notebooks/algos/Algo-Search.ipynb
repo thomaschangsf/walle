{
 "cells": [
  {
   "cell_type": "markdown",
   "id": "0681a1a2-87d8-4a82-9ccb-b09f6c3c8064",
   "metadata": {},
   "source": [
    "# 1 Sort And Search"
   ]
  },
  {
   "cell_type": "markdown",
   "id": "3332be3f-75ea-4fb0-8b52-383794dd64f6",
   "metadata": {},
   "source": [
    "### Introduction"
   ]
  },
  {
   "cell_type": "markdown",
   "id": "7535be69-43ae-47eb-b367-78df3cfbdb27",
   "metadata": {},
   "source": [
    "### Sort Linked List"
   ]
  },
  {
   "cell_type": "code",
   "execution_count": null,
   "id": "c57f2e42-fac1-4feb-aaad-9e71b1151da8",
   "metadata": {},
   "outputs": [],
   "source": []
  },
  {
   "cell_type": "markdown",
   "id": "15ea9811-d0ec-47c4-8052-156b1e338d81",
   "metadata": {},
   "source": [
    "### Sort Array"
   ]
  },
  {
   "cell_type": "code",
   "execution_count": null,
   "id": "891de03b-edce-4d5c-97a6-3744e8682e76",
   "metadata": {},
   "outputs": [],
   "source": []
  },
  {
   "cell_type": "markdown",
   "id": "6deaa7cf-d62c-46b7-abfc-91717059e044",
   "metadata": {},
   "source": [
    "### Kth Largest Integer"
   ]
  },
  {
   "cell_type": "code",
   "execution_count": null,
   "id": "7b5170e2-b241-4ace-88a7-70f0ab69d58c",
   "metadata": {},
   "outputs": [],
   "source": []
  },
  {
   "cell_type": "markdown",
   "id": "d09be457-dbcb-4f60-8e6c-6e40fbf3cdcd",
   "metadata": {},
   "source": [
    "# 2 Binary Search"
   ]
  },
  {
   "cell_type": "markdown",
   "id": "301102f5-0ceb-406e-8ad5-19187e32db5a",
   "metadata": {},
   "source": [
    "### Introduction"
   ]
  },
  {
   "cell_type": "code",
   "execution_count": null,
   "id": "b4ce5da7-dbb9-4e24-ba2f-db8046f035c7",
   "metadata": {},
   "outputs": [],
   "source": []
  },
  {
   "cell_type": "markdown",
   "id": "f26e6437-32b5-472f-8e4f-dd0b63ca6ffc",
   "metadata": {},
   "source": [
    "### Find the Insertion Index"
   ]
  },
  {
   "cell_type": "code",
   "execution_count": null,
   "id": "ba8376c5-9115-41d0-b76a-61841a6f3885",
   "metadata": {},
   "outputs": [],
   "source": []
  },
  {
   "cell_type": "markdown",
   "id": "a782f3e8-e954-4061-a221-e0fb624acec8",
   "metadata": {},
   "source": [
    "### First and Last Occurence of a Number"
   ]
  },
  {
   "cell_type": "code",
   "execution_count": null,
   "id": "941a9b18-9482-42de-b77e-e6d0e0d0ede8",
   "metadata": {},
   "outputs": [],
   "source": []
  },
  {
   "cell_type": "markdown",
   "id": "84e573f0-28cd-4cf8-8e44-84df97b93156",
   "metadata": {},
   "source": [
    "### Cutting Wood"
   ]
  },
  {
   "cell_type": "code",
   "execution_count": null,
   "id": "db86a86a-5286-4145-82f2-bba63d196316",
   "metadata": {},
   "outputs": [],
   "source": []
  },
  {
   "cell_type": "markdown",
   "id": "a03781f6-5198-4e71-9f8c-96b04dcfac05",
   "metadata": {},
   "source": [
    "### Find The Target in a Rotated Sorted Array"
   ]
  },
  {
   "cell_type": "code",
   "execution_count": null,
   "id": "bb2b8ad1-b1aa-4553-bbcc-486ab6cf13dd",
   "metadata": {},
   "outputs": [],
   "source": []
  }
 ],
 "metadata": {
  "kernelspec": {
   "display_name": "Python 3 (ipykernel)",
   "language": "python",
   "name": "python3"
  },
  "language_info": {
   "codemirror_mode": {
    "name": "ipython",
    "version": 3
   },
   "file_extension": ".py",
   "mimetype": "text/x-python",
   "name": "python",
   "nbconvert_exporter": "python",
   "pygments_lexer": "ipython3",
   "version": "3.11.9"
  }
 },
 "nbformat": 4,
 "nbformat_minor": 5
}
