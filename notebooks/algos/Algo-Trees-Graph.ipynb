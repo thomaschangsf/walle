{
 "cells": [
  {
   "cell_type": "markdown",
   "id": "46f77f18-3d2d-43da-8ac6-c14bfdd35ee4",
   "metadata": {},
   "source": [
    "# 1 Trees\n"
   ]
  },
  {
   "cell_type": "markdown",
   "id": "7125a827-f978-47df-bfde-bd49957ed933",
   "metadata": {},
   "source": [
    "## 1.1 Regular Trees"
   ]
  },
  {
   "cell_type": "markdown",
   "id": "a04df5f8-7508-4844-9b80-abd28952519b",
   "metadata": {},
   "source": [
    "### Tree Node Class"
   ]
  },
  {
   "cell_type": "code",
   "execution_count": null,
   "id": "2f824a0a-11c6-4b77-ae12-952df7566bf9",
   "metadata": {},
   "outputs": [],
   "source": [
    "class TreeNode:\n",
    "    def __init__(self, val=0, left=None, right=None):\n",
    "        self.left = left\n",
    "        self.right = right\n",
    "        self.val = val"
   ]
  },
  {
   "cell_type": "markdown",
   "id": "bda81d9b-620c-411f-97aa-6a70ae294c21",
   "metadata": {},
   "source": [
    "### DFS In order Traversal"
   ]
  },
  {
   "cell_type": "code",
   "execution_count": 7,
   "id": "45610b1b-bec0-4fc5-9968-e868fccc17aa",
   "metadata": {},
   "outputs": [],
   "source": [
    "# Variable: n = number of nodes\n",
    "# Run time complexity: O(n), since each node is computed once\n",
    "# Space complexity: O(h): where h is the height of tree since we maintain at \n",
    "def traverse_dfs_in_order(root):\n",
    "    result = []\n",
    "    stack = [] # array has pop but no popleft()\n",
    "    current = root\n",
    "\n",
    "    if current:\n",
    "        stack.append(current)\n",
    "\n",
    "    # Explore all of the current node's left\n",
    "    while stack:\n",
    "        while current:\n",
    "            stack.append(current)\n",
    "            current = current.left\n",
    "\n",
    "        # visit the parent node of all the explored child nodes\n",
    "        current = stack.pop()\n",
    "    \n",
    "        # Apply some business logic to current node\n",
    "        result.append(current.val)\n",
    "\n",
    "        # Traverse the right tree\n",
    "        current = current.right    \n",
    "\n"
   ]
  },
  {
   "cell_type": "markdown",
   "id": "e8d0a79c-6974-44e0-ad2f-8f1c74c19331",
   "metadata": {},
   "source": [
    "### BFS: node -> left -> right"
   ]
  },
  {
   "cell_type": "code",
   "execution_count": null,
   "id": "86602284-0fcb-4d39-a20e-249f0153437c",
   "metadata": {},
   "outputs": [],
   "source": [
    "from collections import deque\n",
    "\n",
    "def traverse_bfs(root):\n",
    "    result = []\n",
    "\n",
    "    if not root:\n",
    "        return result\n",
    "        \n",
    "    q = deque(root)\n",
    "\n",
    "    while q:\n",
    "        current = q.popleft()\n",
    "        result.append(current.val)\n",
    "        \n",
    "        if current.left:\n",
    "            q.append(current.left)\n",
    "\n",
    "        if current.right:\n",
    "            q.append(current.right)\n"
   ]
  },
  {
   "cell_type": "markdown",
   "id": "8ad8fb48-877b-45ef-a7fd-fc9067a8a560",
   "metadata": {},
   "source": [
    "### Lowest Common Ancestor (LCA) of a Binary Tree\n",
    "- Problem:\n",
    "    * Given a binary tree, find the lowest common ancestor (LCA) of two given nodes. The LCA is the lowest node in the tree that has both nodes as descendants (a node can be its own descendant).\n",
    "\n",
    "- Approach:\n",
    "    * Use a recursive DFS to traverse the tree. If one of the nodes is found in a subtree, return that node. If both nodes are found in the left and right subtrees, the current root is the LCA.\n",
    "\n",
    "- Concepts Tested:\n",
    "    * Recursion\n",
    "    * Understanding of tree traversal and parent-child relationships."
   ]
  },
  {
   "cell_type": "code",
   "execution_count": 10,
   "id": "33d46d96-aa9e-4eaf-b42f-200e4513ac7d",
   "metadata": {},
   "outputs": [],
   "source": [
    "# Time Complexity: O(n) since we search every node once\n",
    "# Space Complexity: O(n) = h, where h is the height of the tree\n",
    "\n",
    "class TreeNode:\n",
    "    def __init__(self, val=0, left=None, right=None):\n",
    "        self.val = val\n",
    "        self.left = left\n",
    "        self.right = right\n",
    "\n",
    "def lca(root: TreeNode, p: TreeNode, q: TreeNode) -> TreeNode:\n",
    "    \n",
    "    def helper(node):\n",
    "        # Base case: If the node is None or matches one of the target nodes, return node\n",
    "        # Terminate search if node is None or is one of the target\n",
    "        if not node or node=p or node=q:\n",
    "            return node\n",
    "\n",
    "        left = helper(root.left)\n",
    "        right = helper(root.right)\n",
    "\n",
    "        if left and right:\n",
    "            return node\n",
    "\n",
    "        return left or right\n",
    "    \n",
    "    \n",
    "    return helper(root)"
   ]
  },
  {
   "cell_type": "code",
   "execution_count": null,
   "id": "c38c7756-26ed-468f-9db8-250cf061274f",
   "metadata": {},
   "outputs": [],
   "source": []
  },
  {
   "cell_type": "markdown",
   "id": "66e0a093-4686-4276-8765-28f49cff4a9c",
   "metadata": {},
   "source": [
    "### Serialize and Deserialize a Binary Tree\n",
    "- Problem:\n",
    "    * Design an algorithm to encode a binary tree to a string and decode the string back into the original tree.\n",
    "\n",
    "- Approach:\n",
    "    * Serialization: Perform a pre-order traversal, representing null nodes with a marker (e.g., \"None\").\n",
    "    * Deserialization: Use a queue to reconstruct the tree in the same pre-order sequence.\n",
    "\n",
    "- Concepts Tested:\n",
    "    * Tree traversal (pre-order, in-order, post-order)\n",
    "    * Data structure manipulation\n",
    "    * Use of recursion or iterative methods to reconstruct the tree."
   ]
  },
  {
   "cell_type": "code",
   "execution_count": null,
   "id": "1f74af31-e5f9-4c63-938a-2b079a2b3dfd",
   "metadata": {},
   "outputs": [],
   "source": [
    "class Codec:\n",
    "    # n is the number of nodes in our tree\n",
    "    # Run time Complexity:\n",
    "    #    O(n) since we visit every node once\n",
    "    # Spac Complexity:\n",
    "    #    Memory used to represent the tree --> O(n) = n\n",
    "    def serialize(self, root: TreeNode) -> str:\n",
    "        def preorder(node):\n",
    "            if not node:\n",
    "                return \"None\"\n",
    "            return str(node.val) + ',' + preorder(node.left) + ',' + preorder(node.right)\n",
    "        \n",
    "        return preorder(root)\n",
    "\n",
    "    # Run time Complexity:\n",
    "    #    O(n) since we visit every node once\n",
    "    # Space complexity: \n",
    "    #    stack=O(h)-->worse case=n  \n",
    "    #    nodes=O(n) \n",
    "    #    Thefore O(n) = 2n ~= n\n",
    "    # Example str: 1,2,4,None,None,5,None,None,3,None,None\n",
    "    \n",
    "    def deserialize(self, data: str) -> TreeNode:\n",
    "        nodes = data.split(\",\")\n",
    "\n",
    "        def build_tree():\n",
    "            value = nodes.pop(0)  # queue\n",
    "            \n",
    "            if value == 'None': # pre-order means value is first, then the child\n",
    "                return\n",
    "\n",
    "            curr_node = TreeNode(value)\n",
    "            \n",
    "            curr_node.left = build_tree() # left is first because we are using preorder\n",
    "            curr_node.right = build_tree()\n",
    "\n",
    "            return curr_node\n",
    "                        \n",
    "        # since we are pop from left in build_tree(), the first node will be root\n",
    "        root = build.tree()\n",
    "        return root"
   ]
  },
  {
   "cell_type": "code",
   "execution_count": 14,
   "id": "8b31bbd7-0028-4d0b-bc3c-dccd37f12900",
   "metadata": {},
   "outputs": [
    {
     "data": {
      "text/plain": [
       "1"
      ]
     },
     "execution_count": 14,
     "metadata": {},
     "output_type": "execute_result"
    }
   ],
   "source": [
    "a = [1,2,3,4]\n",
    "#a.pop() # 4\n",
    "a.pop(0) # 1\n",
    "\n",
    "santahana 225 223 2894\n",
    "mario: 408 797 9625\n",
    "contractor/marcelino : 408-205-3073 \n"
   ]
  },
  {
   "cell_type": "markdown",
   "id": "e6c19910-9e6a-4014-9e67-9d7f020dcb9f",
   "metadata": {},
   "source": [
    "### Maximum Path Sum In a Binary Tree\n",
    "- Problem:\n",
    "    * A path in a binary tree is defined as any sequence of nodes connected by edges. The path does not need to go through the root. Find the maximum path sum.\n",
    "\n",
    "- Approach:\n",
    "    * Use a recursive function to calculate the maximum path sum for each subtree. The function should return the maximum gain (single branch) to the parent but also update the global maximum path sum considering both branches through the node.\n",
    "\n",
    "- Concepts Tested:\n",
    "    * Recursion with state tracking\n",
    "    * Dynamic programming on trees\n",
    "    * Global state management in recursive calls."
   ]
  },
  {
   "cell_type": "code",
   "execution_count": 11,
   "id": "7c174bb4-6f93-49e1-83f3-a7170a69508c",
   "metadata": {},
   "outputs": [],
   "source": [
    "# Example: Max path sum = 15 + 20 + 7 = 42\n",
    "#       -10\n",
    "#       /  \\\n",
    "#      9   20\n",
    "#         /  \\\n",
    "#        15   7\n",
    "\n",
    "def maxPathSum(root: TreeNode) -> int:\n",
    "    max_sum = float('-inf')\n",
    "\n",
    "    def recurse(node):\n",
    "        left_sum, right_sum = 0, 0\n",
    "        \n",
    "        if node.left:\n",
    "            left_sum = recurse(node.left)\n",
    "        if node.right:\n",
    "            right_sum = recurse(node.right)\n",
    "\n",
    "        curr_sum = node.value + left_sum + right_sum\n",
    "        \n",
    "        max_sum max(max_sum, curr_sum)\n",
    "        \n",
    "        return curr_sum\n",
    "        \n",
    "    recurse(root)\n",
    "    return max_sum "
   ]
  },
  {
   "cell_type": "code",
   "execution_count": null,
   "id": "91116bf5-8389-4806-a226-73fdc6759c06",
   "metadata": {},
   "outputs": [],
   "source": []
  },
  {
   "cell_type": "code",
   "execution_count": null,
   "id": "41807731-bd94-4c72-85e3-ba8c01fa324e",
   "metadata": {},
   "outputs": [],
   "source": []
  },
  {
   "cell_type": "markdown",
   "id": "8c93f9f9-3064-4e6b-ae62-f23dc03923dd",
   "metadata": {},
   "source": [
    "## 1.2 Binary Search "
   ]
  },
  {
   "cell_type": "markdown",
   "id": "6aa27eb2-a5ff-4324-8db0-11d846f9e4ab",
   "metadata": {},
   "source": [
    "### Kth Smallest\n",
    "- Run Time: O(height_of_tree + k) = O(log(n) + k) for balanced tree\n",
    "- Space: O(h), since at any time we can have most h nodes. h = log(n) for balanced tree; h = n for skew trees"
   ]
  },
  {
   "cell_type": "code",
   "execution_count": null,
   "id": "7dad2e09-be2b-4a65-a5bd-218d9b6db406",
   "metadata": {},
   "outputs": [],
   "source": [
    "def graph_dfs_in_order(root, k):\n",
    "    # left -> node -> right\n",
    "    stack = []\n",
    "    \n",
    "    while True:\n",
    "        \n",
    "        while root:\n",
    "            stack.append(root)\n",
    "            root = root.left\n",
    "\n",
    "        # get the smallest; the node we pop is the node we count\n",
    "        root = stack.pop()\n",
    "\n",
    "        k -= 1\n",
    "        if k == 0:\n",
    "            return root.val\n",
    "\n",
    "        root = root.right\n",
    "        \n",
    "            \n"
   ]
  },
  {
   "cell_type": "code",
   "execution_count": null,
   "id": "21229654-bb92-41be-9800-752ba34130d2",
   "metadata": {},
   "outputs": [],
   "source": []
  },
  {
   "cell_type": "markdown",
   "id": "8ccbeba8-d97d-45f5-bfcf-af11a7361b33",
   "metadata": {},
   "source": [
    "# 2 General Connections/ Grid "
   ]
  },
  {
   "cell_type": "markdown",
   "id": "07f94f2f-0418-4954-83d4-a006a35bd675",
   "metadata": {},
   "source": [
    "### DFS Traversal\n",
    "- Given a grid with lengh n"
   ]
  },
  {
   "cell_type": "code",
   "execution_count": 3,
   "id": "2b5d6148-bfeb-457e-ad2c-2feb5c565217",
   "metadata": {},
   "outputs": [],
   "source": [
    "from collections import deque\n",
    "\n",
    "# We are traversing a non-grid\n",
    "def dfs_traversal(n, edges):\n",
    "    # visit[node] = 1 iff we visit every child of that node\n",
    "    visited = [0] * n\n",
    "\n",
    "    # -----------------------------------\n",
    "    # Building: m = # edges\n",
    "    # -----------------------------------\n",
    "    # run time: O(m)\n",
    "    # space: O(n + m)\n",
    "    g = { i: [] for i in range(n) }\n",
    "    for i, j in edges:\n",
    "        g[i].append(j)\n",
    "        g[j].append(i)\n",
    "\n",
    "    # stack contains all the node we have at this \"level\" and its child\n",
    "    stack = deque()\n",
    "\n",
    "    # -----------------------------------\n",
    "    # Traversal: Loop through each edge\n",
    "    # -----------------------------------\n",
    "    # Run time: O( n + 2m)\n",
    "    #      each node n is visited only once; because of visited check\n",
    "    #      each edge is processed twice bc of \"for c in g[current]\"\n",
    "    # Space: O(2n) since visited and stack can take at most n spaces\n",
    "    #      \n",
    "    for node in range(n):\n",
    "        if visited[node]==0:\n",
    "            visited[node] = 1\n",
    "            stack.append(node)\n",
    "\n",
    "        # Visit every node at this \"level\" and its child\n",
    "        while stack:\n",
    "            current = stack.pop()\n",
    "            visited[current] = 1\n",
    "\n",
    "            for c in g[current]:\n",
    "                if visited[c] == 0:\n",
    "                    stack.append(c)\n"
   ]
  },
  {
   "cell_type": "markdown",
   "id": "7e1458ce-de95-4e18-8aa2-0bdc54aacc6b",
   "metadata": {},
   "source": [
    "### BFS Traversal"
   ]
  },
  {
   "cell_type": "code",
   "execution_count": null,
   "id": "5a296d3a-2d88-4897-9506-6ac96a9fc5dd",
   "metadata": {},
   "outputs": [],
   "source": [
    "from collections import deque\n",
    "\n",
    "def bfs_traversal(n, edges, start):\n",
    "    g = { i: [] for i in range(n) }\n",
    "    for i, j in edges:\n",
    "        g[i].append(j)\n",
    "        g[j].append(i)\n",
    "    \n",
    "    q = deque(start)\n",
    "    result = []\n",
    "    visited = [False] * n\n",
    "    \n",
    "    while q:\n",
    "        current = q.popleft()\n",
    "        result.append(current)\n",
    "\n",
    "        for n in g[current]:\n",
    "            if n not in visited:\n",
    "                visited[n] = True\n",
    "                q.append(n)\n",
    "\n",
    "    return result\n",
    "        \n",
    "\n",
    "    "
   ]
  },
  {
   "cell_type": "code",
   "execution_count": null,
   "id": "abddc58c-87f2-402d-902d-145ca3e9e188",
   "metadata": {},
   "outputs": [],
   "source": []
  }
 ],
 "metadata": {
  "kernelspec": {
   "display_name": "Python 3 (ipykernel)",
   "language": "python",
   "name": "python3"
  },
  "language_info": {
   "codemirror_mode": {
    "name": "ipython",
    "version": 3
   },
   "file_extension": ".py",
   "mimetype": "text/x-python",
   "name": "python",
   "nbconvert_exporter": "python",
   "pygments_lexer": "ipython3",
   "version": "3.11.9"
  }
 },
 "nbformat": 4,
 "nbformat_minor": 5
}
