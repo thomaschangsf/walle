{
 "cells": [
  {
   "cell_type": "markdown",
   "id": "3a264136-e0c5-431f-a4a9-3d10f211c6e1",
   "metadata": {},
   "source": [
    "# Background\n",
    "- Big(O)\n",
    "    * insert/delete: log(n)\n",
    "    * peek: O(1)\n",
    "    * heapify: O(n)"
   ]
  },
  {
   "cell_type": "code",
   "execution_count": 1,
   "id": "a14ac3a2-43ee-4b0c-8ba6-4487181500a1",
   "metadata": {},
   "outputs": [
    {
     "name": "stdout",
     "output_type": "stream",
     "text": [
      "MIN HEAP\n",
      "[2, 5, 15]\n",
      "\n",
      "MAX HEAP\n",
      "[-8, -3, -6, -2]\n"
     ]
    },
    {
     "data": {
      "text/plain": [
       "8"
      ]
     },
     "execution_count": 1,
     "metadata": {},
     "output_type": "execute_result"
    }
   ],
   "source": [
    "import heapq\n",
    "\n",
    "# Python default heap is a min heap\n",
    "print('MIN HEAP')\n",
    "a = [5,2,15]\n",
    "heapq.heapify(a) \n",
    "print(a) # a[0] is the min value\n",
    "\n",
    "\n",
    "print('\\nMAX HEAP')\n",
    "b = [6, 2, 8, 3]\n",
    "c = [-i for i in b]\n",
    "heapq.heapify(c) # O(n)\n",
    "print(c)\n",
    "-c[0] "
   ]
  },
  {
   "cell_type": "markdown",
   "id": "35838893-4e45-4599-beb8-2f7ba3997bf1",
   "metadata": {},
   "source": [
    "### K Most Frequent Strings\n",
    "- Find the k most freq strings in an array, and return then sorted by the frequency in descending order.  If 2 strings have same frequency, sort them by lexicographical order\n",
    "- Ex:\n",
    "    * strs = [\"go\", \"coding\", \"byte\", \"byte\", \"go\", \"interview\", \"go\"]  k=2\n",
    "    * res = [\"go\", \"byte\"]"
   ]
  },
  {
   "cell_type": "code",
   "execution_count": 14,
   "id": "4cc85435-c28b-46e7-a382-25ccdb62df20",
   "metadata": {},
   "outputs": [
    {
     "data": {
      "text/plain": [
       "['go', 'byte']"
      ]
     },
     "execution_count": 14,
     "metadata": {},
     "output_type": "execute_result"
    }
   ],
   "source": [
    "import heapq\n",
    "from collections import Counter \n",
    "\n",
    "# n = num of words\n",
    "\n",
    "def k_most_freq(strs, k):\n",
    "\n",
    "    # RT: O(n)\n",
    "    freqs = Counter(strs)\n",
    "\n",
    "    # RT: O(n)\n",
    "    max_heap = [(-cnt, w) for w, cnt in freqs.items()]\n",
    "\n",
    "    # RT: O(n)\n",
    "    heapq.heapify(max_heap)\n",
    "\n",
    "    # RT: O(k* (1) )\n",
    "    return  [heapq.heappop(max_heap)[1] for i in range(k)]\n",
    "        \n",
    "\n",
    "strs = [\"go\", \"coding\", \"byte\", \"byte\", \"go\", \"interview\", \"go\"]\n",
    "\n",
    "k_most_freq(strs, 2)"
   ]
  },
  {
   "cell_type": "markdown",
   "id": "e10857d2-1ef3-431e-8810-4d838339641c",
   "metadata": {},
   "source": [
    "### Combine Sorted Linked List\n",
    "- Given k singly linked list, each sorted in ascending order, combine them in to one sortd order"
   ]
  },
  {
   "cell_type": "code",
   "execution_count": 21,
   "id": "1044cc61-6cb7-4436-b581-6e818869370f",
   "metadata": {},
   "outputs": [],
   "source": [
    "class ListNode:\n",
    "    def __init__(self, value, next):\n",
    "        self.value = value\n",
    "        self.next = next\n",
    "\n",
    "    def __lt__(self, other):\n",
    "        return self.value <= other.value"
   ]
  },
  {
   "cell_type": "code",
   "execution_count": 23,
   "id": "39503ed6-2cf4-490f-bfed-4c0a12894f6b",
   "metadata": {},
   "outputs": [],
   "source": [
    "from typing import List\n",
    "import heapq\n",
    "\n",
    "def combine_sorted_linked_list(lists: List[ListNode]) -> ListNode:\n",
    "    \n",
    "    # Aim to have heap have a member from each of the lists\n",
    "    heap = []\n",
    "\n",
    "    for head in lists:\n",
    "        if head:\n",
    "            heapq.push(heap, head)\n",
    "\n",
    "    dummy = ListNode(-1)\n",
    "\n",
    "    # Curr is the pter to our result linked list\n",
    "    curr = dummy\n",
    "\n",
    "    while heap:\n",
    "        smallest_node = heapq.heappop(heap)\n",
    "\n",
    "        curr.next = smallest_node\n",
    "        curr = curr.next\n",
    "\n",
    "        if smallest_node.next:\n",
    "            heapq.heappush(heap, smallest_node.next)\n",
    "\n",
    "    return dummy.next"
   ]
  },
  {
   "cell_type": "markdown",
   "id": "ceca7e7b-82db-496a-b40f-bd9a319e6072",
   "metadata": {},
   "source": [
    "### Median of an Integer Stream\n",
    "- Design a DS that supports adding integers from a data stream and retrieving the median of all elements at any point\n",
    "    * add(num: int) -> None: adds an integer to the DS\n",
    "    * get_median() -> float: returns the median of all integers so far\n",
    "\n",
    "- Example:\n",
    "    * Input: [add(3), add(6), get_median(), add(1), get_median() ]\n",
    "    * Output: [4.5, 3.0]"
   ]
  },
  {
   "cell_type": "code",
   "execution_count": null,
   "id": "94a76fea-0f4e-4e33-bdf9-6b3698482482",
   "metadata": {},
   "outputs": [],
   "source": []
  }
 ],
 "metadata": {
  "kernelspec": {
   "display_name": "Python 3 (ipykernel)",
   "language": "python",
   "name": "python3"
  },
  "language_info": {
   "codemirror_mode": {
    "name": "ipython",
    "version": 3
   },
   "file_extension": ".py",
   "mimetype": "text/x-python",
   "name": "python",
   "nbconvert_exporter": "python",
   "pygments_lexer": "ipython3",
   "version": "3.11.9"
  }
 },
 "nbformat": 4,
 "nbformat_minor": 5
}
