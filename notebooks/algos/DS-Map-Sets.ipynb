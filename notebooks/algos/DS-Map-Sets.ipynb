{
 "cells": [
  {
   "cell_type": "markdown",
   "id": "3e2a0bdd-f861-48e5-a342-bab3c8d9def4",
   "metadata": {},
   "source": [
    "# 1 Map\n",
    "- pg 29\n",
    "- Properties\n",
    "    * Does not store duplicates\n",
    "    * Data is stored as key value pairs\n",
    "    * Keys are unordered\n",
    "- Performance RT:\n",
    "    * Average: O(1) or insert, access, and delete\n",
    "- Use cases\n",
    "    * Counting Freq, quick lookups"
   ]
  },
  {
   "cell_type": "markdown",
   "id": "ee2d5305-c8b1-40bc-9525-c4db2acd49fc",
   "metadata": {},
   "source": [
    "## 1.1 Tutorial"
   ]
  },
  {
   "cell_type": "markdown",
   "id": "47f30a36-1ab7-47f7-bf46-b0b112e1b4f7",
   "metadata": {},
   "source": [
    "#### Counter\n"
   ]
  },
  {
   "cell_type": "code",
   "execution_count": 5,
   "id": "0f96a2aa-44a9-46a6-86d2-6d2a01058aff",
   "metadata": {},
   "outputs": [
    {
     "data": {
      "text/plain": [
       "Counter({'d': 4,\n",
       "         'r': 2,\n",
       "         'o': 2,\n",
       "         'p': 2,\n",
       "         'y': 1,\n",
       "         'n': 1,\n",
       "         'a': 1,\n",
       "         'l': 1,\n",
       "         'e': 1,\n",
       "         'g': 1,\n",
       "         'i': 1})"
      ]
     },
     "execution_count": 5,
     "metadata": {},
     "output_type": "execute_result"
    }
   ],
   "source": [
    "from collections import Counter\n",
    "\n",
    "# Create a char to demand table\n",
    "word_pool = [\"dry\", \"don\", \"apple\", \"dog\", \"dri\"]\n",
    "\n",
    "demand_map = Counter()\n",
    "for w in word_pool: chang\n",
    "    \n",
    "    demand_map.update([c for c in w])\n",
    "demand_map"
   ]
  },
  {
   "cell_type": "code",
   "execution_count": null,
   "id": "4d098854-a717-4d85-a1b6-47d26e76580e",
   "metadata": {},
   "outputs": [],
   "source": []
  },
  {
   "cell_type": "markdown",
   "id": "50d7c8ce-fe59-4246-9a19-3b6ee1f38d90",
   "metadata": {},
   "source": [
    "## 1.2 Problems"
   ]
  },
  {
   "cell_type": "markdown",
   "id": "8ac8cacb-5abd-4701-960a-a0002171efa1",
   "metadata": {},
   "source": [
    "### 1.2.1 Pair Sums Unsorted\n",
    "- Given array of integers, return indexes of any 2 numbers that add up to the target. If no pair is found, return an empty array. Same index cannot be used twice.\n",
    "- Examples\n",
    "    * input: nums = [-1,3,4,2], target = 3 \n",
    "    * result: [0,2]"
   ]
  },
  {
   "cell_type": "code",
   "execution_count": 6,
   "id": "cd6c2c15-55ba-4a4e-983f-692468f28309",
   "metadata": {},
   "outputs": [],
   "source": [
    "def pair_sums(nums):\n",
    "    map = {n: i for i, n in enumerate(nums) }\n",
    "    for n in nums:\n",
    "        if target-n in map:\n",
    "            return [map[target-n], map[n]]\n",
    "    return []\n"
   ]
  },
  {
   "cell_type": "markdown",
   "id": "fa949ecc-8011-4fec-9660-a1e31ddb7f50",
   "metadata": {},
   "source": [
    "# 2 HashSets\n"
   ]
  },
  {
   "cell_type": "markdown",
   "id": "4a1629ba-c441-460f-8764-bd0095c41592",
   "metadata": {},
   "source": [
    "### Verify Sudoku Board\n",
    "- Given a partially completed 9x9 board, determine if current state of board adheres to the rules of the game\n",
    "    * earch now and column contains unique number between 1 and 9 or empty\n",
    "    * each of the nine 3x3 subgrids must contain unique numbers between 1 and 9 or be empty\n",
    "    * Notice: there are no diagonal requirements"
   ]
  },
  {
   "cell_type": "code",
   "execution_count": 7,
   "id": "c443a861-9f9e-416a-868c-4a01eaae88cf",
   "metadata": {},
   "outputs": [],
   "source": [
    "def verify_board(board):\n",
    "    row_set = [set() for _ in range(len(board))]\n",
    "    col_set = [set() for _ in range(len(board[0]))]\n",
    "    subgrid_set = [ [set() for _ in range(3)] for _ in range(3) ]  # nested array of set, subgrid_set[0] refers to row 0\n",
    "\n",
    "    for r in range(9):\n",
    "        for c in range(9):\n",
    "            num = board[r][c]\n",
    "            if num == 0:\n",
    "                continue\n",
    "\n",
    "            if num in row_set[r]:\n",
    "                return False\n",
    "            if num in col_set[c]:\n",
    "                return False\n",
    "            if num in subgrid_set[r//3][c//3]:\n",
    "                return False\n",
    "\n",
    "            row_set[r].add(num)\n",
    "            col_set[c].add(num)\n",
    "            subgrid_set[r//3][c//3].add(num)\n",
    "\n",
    "    return True"
   ]
  },
  {
   "cell_type": "code",
   "execution_count": null,
   "id": "ecac5a32-f60f-4c3f-861d-b05ad33f1edf",
   "metadata": {},
   "outputs": [],
   "source": []
  },
  {
   "cell_type": "markdown",
   "id": "fccb301b-2c19-48bc-8163-2cbd44d7dbc7",
   "metadata": {},
   "source": [
    "### Zero Stripping\n",
    "- For each zero in a mxn matrix, set its entire row and column to zero in place"
   ]
  },
  {
   "cell_type": "code",
   "execution_count": null,
   "id": "22cab23d-3150-469e-81d7-a70aac1db992",
   "metadata": {},
   "outputs": [],
   "source": [
    "def zero_strip(board):\n",
    "    if not matrix or not matrix[0]:\n",
    "        return None\n",
    "        \n",
    "    m, n = len(board), len(board[0])\n",
    "    row_set, col_set = set(), set()\n",
    "\n",
    "    for r in range(n):\n",
    "        for c in range(n):\n",
    "            if board[r][c] == 0:\n",
    "                row_set.add(r)\n",
    "                col_set.add(c)\n",
    "\n",
    "    for r in range(n):\n",
    "        for c in range(n):\n",
    "            if x in row_set:\n",
    "                for y in range(n):\n",
    "                    board[x][y] = 0\n",
    "            if c in col_set:\n",
    "                for x in range(m):\n",
    "                    board[x][c] = 0\n",
    "                    "
   ]
  },
  {
   "cell_type": "code",
   "execution_count": null,
   "id": "d9bedf0d-e99f-4ad7-a230-c11b068d0c00",
   "metadata": {},
   "outputs": [],
   "source": []
  },
  {
   "cell_type": "markdown",
   "id": "d4b7e154-2bb8-4d0b-81e0-4ca52396fbf5",
   "metadata": {},
   "source": [
    "### Longest Chain of Consecutive Numbers (BONUS)"
   ]
  },
  {
   "cell_type": "code",
   "execution_count": null,
   "id": "d4c26196-6f0c-4b27-8f1b-5e1314f75d73",
   "metadata": {},
   "outputs": [],
   "source": []
  }
 ],
 "metadata": {
  "kernelspec": {
   "display_name": "Python 3 (ipykernel)",
   "language": "python",
   "name": "python3"
  },
  "language_info": {
   "codemirror_mode": {
    "name": "ipython",
    "version": 3
   },
   "file_extension": ".py",
   "mimetype": "text/x-python",
   "name": "python",
   "nbconvert_exporter": "python",
   "pygments_lexer": "ipython3",
   "version": "3.11.9"
  }
 },
 "nbformat": 4,
 "nbformat_minor": 5
}
