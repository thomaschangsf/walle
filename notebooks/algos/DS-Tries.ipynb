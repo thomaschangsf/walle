{
 "cells": [
  {
   "cell_type": "markdown",
   "id": "aa2df69f-a924-4256-a848-792d31e61fd9",
   "metadata": {},
   "source": [
    "# Tries (aka prefixTrees)\n",
    "- pg 227\n",
    "- A DS that allows words to reuse existing nodes based on shared frefixes.  Stores trings efficiently that minimizes refundancy\n",
    "- RT Performance\n",
    "    * O(n) for insert, search, and delete\n",
    "- When to use:\n",
    "    * Prefix search, ie prefix search, find strings that share common prefix\n",
    "    * word validation"
   ]
  },
  {
   "cell_type": "markdown",
   "id": "958e4ce7-957a-4cbd-9ff4-d3337cf8c848",
   "metadata": {},
   "source": [
    "### Design a Trie\n",
    "- Design and implement a trie ds that supports the following operations:\n",
    "    * insert(word: str) --> None\n",
    "    * search(word: str) --> bool  # returns True if word exists\n",
    "    * has_prefix(prefix: str) --> bool # Rteturns true if trie contains word with given prefix"
   ]
  },
  {
   "cell_type": "code",
   "execution_count": 10,
   "id": "18296c6a-db08-422e-828b-afbe125dfda7",
   "metadata": {},
   "outputs": [],
   "source": [
    "class TrieNode:\n",
    "    def __init__(self):\n",
    "        self.children = {} # dict of ch to TreeNode\n",
    "        self.is_word = False\n",
    "\n",
    "\n",
    "class Trie:\n",
    "    def __init__(self):\n",
    "        self.root = TrieNode()\n",
    "\n",
    "    def insert(self, word: str) -> None:\n",
    "        current = self.root\n",
    "        for c in word:\n",
    "            if c not in current.children:\n",
    "                current.childeren[c] = TrieNode()\n",
    "            current = current.children[c]\n",
    "                \n",
    "        current.is_word = True\n",
    "\n",
    "    \n",
    "    def search(word: str) -> bool:\n",
    "        current = self.root\n",
    "\n",
    "        for c in word:\n",
    "            if c not in current.children:\n",
    "                return False\n",
    "            current = current.children[c]\n",
    "        \n",
    "        return current.is_word\n",
    "\n",
    "    \n",
    "    def has_prefix(prefix: str) -> bool:\n",
    "        current = self.root\n",
    "\n",
    "        for c in word:\n",
    "            if c not in current.children:\n",
    "                return False\n",
    "            current = current.children[c]\n",
    "        \n",
    "        return True"
   ]
  },
  {
   "cell_type": "markdown",
   "id": "a8c16220-1188-40b2-ba6a-a0932cea937d",
   "metadata": {},
   "source": [
    "### Insert and Search Words With Wildcards\n",
    "- Implement a DS that supports the following operations:\n",
    "    * insert(word) --> None # Insert a world into the DS\n",
    "    * search(word: str) --> bool # Returns True if word exists in the DS and false is not. Wolrd may contain a wild cart '.' that can represent any letter"
   ]
  },
  {
   "cell_type": "code",
   "execution_count": null,
   "id": "d9a1b777-f7c9-4e5d-8f96-272052d0ad78",
   "metadata": {},
   "outputs": [],
   "source": []
  },
  {
   "cell_type": "markdown",
   "id": "76654513-7cdd-49e8-b17c-ef61e1147698",
   "metadata": {},
   "source": [
    "### Find all Words ON a Board\n",
    "- Given a 2 2D board of characters and an array of words, find all words in the array that can be formed by tracing a path throught the adjacent cells in the board.  Adjacent cells are thos with horizontally or vertically neightboar each other. We can't use the same cell more than once for a single world."
   ]
  },
  {
   "cell_type": "code",
   "execution_count": 13,
   "id": "2904be0c-5db4-40cb-865e-e0afefede1ad",
   "metadata": {},
   "outputs": [],
   "source": [
    "from typing import List\n",
    "\n",
    "class TrieNode:\n",
    "    def __init__(self):\n",
    "        self.children = {}\n",
    "        seld.word = None  # If not none, this node is the end of a word\n",
    "\n",
    "def find_all_words_on_board(boards: List[List[str]], words: List[str]) -> List[str]:\n",
    "\n",
    "    # Build the trie\n",
    "    root = TrieNode()\n",
    "    for w in words:\n",
    "        node = root\n",
    "        for c in w:\n",
    "            if c not in node.children:\n",
    "                node.children[c] = TreeNode()\n",
    "            node = node.children[c]\n",
    "        node.word = word\n",
    "\n",
    "    res = []\n",
    "    for r in len(boards):\n",
    "        for c in len(boards[0]):\n",
    "            curr_char = board[r][c]\n",
    "            if curr_char in root.children:\n",
    "                dfs(boards, r, c, root.children[curr_char], res)\n",
    "\n",
    "    return res\n",
    "\n",
    "\n",
    "def dfs(boards, r, c, node, res):\n",
    "    if node.word:\n",
    "        res.append(node.word)\n",
    "        # Ensure the word is only added once\n",
    "        node.word = None\n",
    "\n",
    "    # to prevent visiting the same location multiple time, let's mark it as #, a value which is not in anly of our triNode\n",
    "    temp = board[r][c]\n",
    "    board[r][c] = '#'\n",
    "    \n",
    "    dirs = [ (0,1), (0,-1), (1,0), (-1, 0)]\n",
    "    for x, y in dirs:\n",
    "        curr_row, curr_col = r+x, c+y\n",
    "        curr_char = boards[curr_row][curr_col]\n",
    "        if within_bounds(curr_row, curr_col, boards) and curr_char in node.children:\n",
    "            next_node = node.children[curr_char]\n",
    "            dfs(boards, curr_row, curr_col, next_node, res)\n",
    "\n",
    "    # backtrack; revert to original value\n",
    "    board[r][c] = temp\n",
    "    \n",
    "    \n",
    "def is_within_bounds(r, c, boards):\n",
    "    return (0 <= r < len(boards)) and (0 <= c < len(boards[0]))\n"
   ]
  },
  {
   "cell_type": "code",
   "execution_count": null,
   "id": "0ff28a29-ef39-47f4-9a99-4405658fdd5c",
   "metadata": {},
   "outputs": [],
   "source": []
  }
 ],
 "metadata": {
  "kernelspec": {
   "display_name": "Python 3 (ipykernel)",
   "language": "python",
   "name": "python3"
  },
  "language_info": {
   "codemirror_mode": {
    "name": "ipython",
    "version": 3
   },
   "file_extension": ".py",
   "mimetype": "text/x-python",
   "name": "python",
   "nbconvert_exporter": "python",
   "pygments_lexer": "ipython3",
   "version": "3.11.9"
  }
 },
 "nbformat": 4,
 "nbformat_minor": 5
}
