{
 "cells": [
  {
   "cell_type": "markdown",
   "id": "6fe332b5-b8b8-4ad3-b4b0-2ee7b4fe5175",
   "metadata": {},
   "source": [
    "# 1 Learnings\n",
    "- Walk through ALL the examples fefore designing the alogorithms\n",
    "- Use more descriptive variable, helpful toward end of problem and things get blurred\n"
   ]
  },
  {
   "cell_type": "markdown",
   "id": "a4b22f2b-7fb0-457e-bcab-8ee80056a875",
   "metadata": {},
   "source": [
    "# 2 Problems"
   ]
  },
  {
   "cell_type": "markdown",
   "id": "bc6ab47d-fb3b-42ec-b525-4270051f2dbd",
   "metadata": {},
   "source": [
    "### Hangman (MoveWorks)\n",
    "- Write a function to predict the next probable word, give:\n",
    "    * mystery_word: d _ _ \n",
    "    * previous_guesses: ['d']\n",
    "    * word_pool: [\"dry\", \"don\", \"apple\", \"dog\", \"dri\"]\n",
    "- Output: o because o is alpha numerically smaller than r\n"
   ]
  },
  {
   "cell_type": "code",
   "execution_count": 32,
   "id": "f3f31e72-4f34-4c6f-9331-efcb8607d0db",
   "metadata": {},
   "outputs": [],
   "source": [
    "from collections import Counter\n",
    "\n",
    "# Edge cases missed: mystery_word has to be same len as word_pool\n",
    "def predict_next_char(mystery_word, prev_guesses, word_pool):\n",
    "    # --------------------------------------\n",
    "    # Build stats\n",
    "    # --------------------------------------\n",
    "    probability_map = Counter()\n",
    "    for w in word_pool:\n",
    "        #probability_map.update(list(w)) # w.split(\" \") does not work\n",
    "        probability_map.update([c for c in w])\n",
    "        \n",
    "    # --------------------------------------\n",
    "    # Filter: Create word_candidates\n",
    "    # --------------------------------------\n",
    "    index_to_alphabets = [ (i, c) for i, c in enumerate(mystery_word) if c.isalpha() ]\n",
    "    word_candidates = []\n",
    "    for w in word_pool:\n",
    "        if len(w) != len(mystery_word):\n",
    "            continue\n",
    "        if all(w[i] == c for i, c in index_to_alphabets):\n",
    "            word_candidates.append(w)\n",
    "\n",
    "    # --------------------------------------\n",
    "    # Rank\n",
    "    # --------------------------------------\n",
    "    demand_prediction = []\n",
    "    for i in range(len(mystery_word)):\n",
    "        if mystery_word[i].isalpha():\n",
    "            continue\n",
    "        for w in word_candidates:\n",
    "            demand_prediction.append( (probability_map[w[i]], w[i]) )\n",
    "    \n",
    "    demand_prediction.sort(key=lambda t: (-t[0], t[1]) )\n",
    "    \n",
    "    return score_prediction[0][1]\n",
    "    "
   ]
  },
  {
   "cell_type": "code",
   "execution_count": null,
   "id": "d3f4cd76-6d6e-4105-9ae3-6ede73b2ce90",
   "metadata": {},
   "outputs": [],
   "source": []
  }
 ],
 "metadata": {
  "kernelspec": {
   "display_name": "Python 3 (ipykernel)",
   "language": "python",
   "name": "python3"
  },
  "language_info": {
   "codemirror_mode": {
    "name": "ipython",
    "version": 3
   },
   "file_extension": ".py",
   "mimetype": "text/x-python",
   "name": "python",
   "nbconvert_exporter": "python",
   "pygments_lexer": "ipython3",
   "version": "3.11.9"
  }
 },
 "nbformat": 4,
 "nbformat_minor": 5
}
